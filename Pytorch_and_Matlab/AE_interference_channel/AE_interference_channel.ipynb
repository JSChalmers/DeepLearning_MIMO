{
 "cells": [
  {
   "cell_type": "markdown",
   "metadata": {
    "toc": true
   },
   "source": [
    "<h1>Table of Contents<span class=\"tocSkip\"></span></h1>\n",
    "<div class=\"toc\"><ul class=\"toc-item\"></ul></div>"
   ]
  },
  {
   "cell_type": "code",
   "execution_count": 1,
   "metadata": {
    "colab": {
     "base_uri": "https://localhost:8080/",
     "height": 80
    },
    "colab_type": "code",
    "id": "P4eM9iEYBEPm",
    "outputId": "095b40b0-89f5-4be5-884c-397bbbd0d85c"
   },
   "outputs": [
    {
     "name": "stdout",
     "output_type": "stream",
     "text": [
      "cuda\n"
     ]
    }
   ],
   "source": [
    "import numpy as np\n",
    "import torch \n",
    "import torch.nn.functional as F\n",
    "from torch import nn\n",
    "import scipy.io as io\n",
    "import matplotlib.pyplot as plt\n",
    "\n",
    "from torch.optim import SGD, Adam\n",
    "from torch.utils import data\n",
    "\n",
    "import time\n",
    "from tqdm import tqdm\n",
    "\n",
    "device = 'cuda' if torch.cuda.is_available() else 'cpu'\n",
    "print(device)"
   ]
  },
  {
   "cell_type": "code",
   "execution_count": 2,
   "metadata": {
    "colab": {},
    "colab_type": "code",
    "id": "iWD-H5xQBEPp"
   },
   "outputs": [],
   "source": [
    "k = 8### number of bits \n",
    "N_ch = 4 ### Number of complex channel use\n",
    "\n",
    "N = 2 * N_ch ### number of (real) signal dimensions\n",
    "\n",
    "R = k/N_ch # bits / 2 dims\n",
    "\n",
    "M = 2**k\n",
    "NN_T = 256\n",
    "NN_R = 256\n",
    "\n",
    "batch_size = 65536"
   ]
  },
  {
   "cell_type": "code",
   "execution_count": null,
   "metadata": {},
   "outputs": [],
   "source": []
  },
  {
   "cell_type": "code",
   "execution_count": 3,
   "metadata": {
    "colab": {},
    "colab_type": "code",
    "id": "Al9ZMmg1BEPr"
   },
   "outputs": [],
   "source": [
    "\n",
    "class Encoder(nn.Module):\n",
    "    def __init__(self):\n",
    "        super(Encoder, self).__init__()\n",
    "        self.fc1 = nn.Linear(M, NN_T)\n",
    "        self.fc2 = nn.Linear(NN_T, NN_T)\n",
    "        self.fc3 = nn.Linear(NN_T, 2*N_ch)\n",
    "        \n",
    "    def forward(self, x):\n",
    "        x = F.relu(self.fc1(x))\n",
    "        x = F.relu(self.fc2(x))\n",
    "        x = self.fc3(x)\n",
    "        \n",
    "        tx = x / torch.sqrt(2 * torch.mean(x**2))\n",
    "        return tx\n",
    "            \n",
    "\n",
    "\n",
    "        \n",
    "class Decoder(nn.Module):\n",
    "    def __init__(self):\n",
    "        super(Decoder, self).__init__()\n",
    "        self.fc1 = nn.Linear(2*N_ch, NN_R)  \n",
    "        self.fc2 = nn.Linear(NN_R, NN_R) \n",
    "        self.fc3 = nn.Linear(NN_R, NN_R) \n",
    "        self.fc4 = nn.Linear(NN_R, M)\n",
    "    def forward(self, x):\n",
    "        x = F.relu(self.fc1(x))\n",
    "        x = F.relu(self.fc2(x))\n",
    "        x = F.relu(self.fc3(x))\n",
    "        x = self.fc4(x)\n",
    "        decoded = F.log_softmax(x, dim=-1)\n",
    "        return decoded\n",
    "    \n",
    "    \n",
    "def awgn_interference_channel(x1, x2, sigma):\n",
    "    y1 = x1 + x2 + (sigma * torch.randn(x1.shape)).to(device)\n",
    "    y2 = x2 + x1 + (sigma * torch.randn(x1.shape)).to(device)\n",
    "    return y1, y2\n",
    "\n",
    "\n",
    "\n",
    "\n",
    "    \n"
   ]
  },
  {
   "cell_type": "code",
   "execution_count": null,
   "metadata": {},
   "outputs": [],
   "source": []
  },
  {
   "cell_type": "code",
   "execution_count": 4,
   "metadata": {},
   "outputs": [],
   "source": [
    "encoder1 = Encoder().to(device)\n",
    "encoder2 = Encoder().to(device)\n",
    "\n",
    "decoder1 = Decoder().to(device)\n",
    "decoder2 = Decoder().to(device)\n",
    "\n",
    "criterion= nn.NLLLoss()\n",
    "\n",
    "params = list(encoder1.parameters()) + list(encoder2.parameters()) + list(decoder1.parameters())+ list(decoder2.parameters())\n",
    "opt = Adam(params, lr = 1e-3)\n"
   ]
  },
  {
   "cell_type": "code",
   "execution_count": 5,
   "metadata": {},
   "outputs": [
    {
     "data": {
      "text/plain": [
       "<All keys matched successfully>"
      ]
     },
     "execution_count": 5,
     "metadata": {},
     "output_type": "execute_result"
    }
   ],
   "source": [
    "### Load pre-trained Model\n",
    "\n",
    "Path = 'AE_interference_channel'\n",
    "checkpoint = torch.load(Path)\n",
    "encoder1.load_state_dict(checkpoint['Encoder1'])\n",
    "decoder1.load_state_dict(checkpoint['Decoder1'])\n",
    "encoder2.load_state_dict(checkpoint['Encoder2'])\n",
    "decoder2.load_state_dict(checkpoint['Decoder2'])\n",
    "\n"
   ]
  },
  {
   "cell_type": "code",
   "execution_count": 6,
   "metadata": {},
   "outputs": [],
   "source": [
    "if k == 4:\n",
    "    EbNo_dB = 7 # training SNR\n",
    "elif k == 8:\n",
    "    EbNo_dB = 11\n",
    "EbNo_r = 10**(EbNo_dB/10)\n",
    "train_sigma = np.sqrt(1/(2*R*EbNo_r))"
   ]
  },
  {
   "cell_type": "code",
   "execution_count": 7,
   "metadata": {
    "colab": {
     "base_uri": "https://localhost:8080/",
     "height": 357
    },
    "colab_type": "code",
    "id": "WnFI9COKBEPu",
    "outputId": "178fc28b-3f21-47a6-f428-672f5d618013"
   },
   "outputs": [
    {
     "name": "stderr",
     "output_type": "stream",
     "text": [
      "iter    90: L1 = 0.00388, L2 = 0.00345, alpha = 0.530: 100%|██████████| 100/100 [00:05<00:00, 18.95it/s]\n"
     ]
    }
   ],
   "source": [
    "\n",
    "### uncommend this section to start training\n",
    "####### training Phase,\n",
    "\n",
    "\n",
    "# loss_sv1 = []\n",
    "# loss_sv2= []\n",
    "\n",
    "# gradient_steps= int(5e4)\n",
    "\n",
    "# t = tqdm(range(len(range(gradient_steps))), desc=\"epoch\")\n",
    "\n",
    "\n",
    "# for III in t:\n",
    "\n",
    "#     x1= (torch.arange(M).view(-1,1)).repeat(1,M).view(-1).to(device)\n",
    "#     x2 = (torch.arange(M)).repeat(M).to(device)\n",
    "\n",
    "#     x1 = x1.repeat(batch_size//(M*M))\n",
    "#     x2 = x2.repeat(batch_size//(M*M))\n",
    "\n",
    "\n",
    "#     one_hot1 = F.one_hot(x1, M).float()\n",
    "#     one_hot2 = F.one_hot(x2, M).float()\n",
    "\n",
    "\n",
    "#     tx1 = encoder1(one_hot1)\n",
    "#     tx2 = encoder2(one_hot2)\n",
    "\n",
    "#     rx1, rx2 = awgn_interference_channel(tx1, tx2, train_sigma)\n",
    "\n",
    "#     y_pred1 = decoder1(rx1)\n",
    "#     y_pred2 = decoder2(rx2)\n",
    "\n",
    "\n",
    "#     loss1 = criterion(y_pred1, x1)\n",
    "#     loss2 = criterion(y_pred2, x2)\n",
    "\n",
    "#     alpha = loss1.item()/(loss1.item()+loss2.item())\n",
    "#     loss = alpha*loss1 + (1-alpha)*loss2\n",
    "\n",
    "\n",
    "\n",
    "#     opt.zero_grad()\n",
    "#     loss.backward()\n",
    "\n",
    "#     if III > 100==0:\n",
    "#         torch.nn.utils.clip_grad_norm_(params, 0.005)\n",
    "#     opt.step()\n",
    "\n",
    "\n",
    "#     if III%10==0 or III==1:\n",
    "#         t.set_description('iter {:5d}: L1 = {:.5f}, L2 = {:.5f}, alpha = {:.3f}'.format(III, loss1, loss2, alpha))\n",
    "#         t.refresh() # to show immediately the update\n",
    "\n",
    "#     loss_sv1.append(loss1.item())\n",
    "#     loss_sv2.append(loss2.item())\n",
    "\n",
    "\n",
    "\n",
    "\n"
   ]
  },
  {
   "cell_type": "code",
   "execution_count": 8,
   "metadata": {},
   "outputs": [],
   "source": [
    "# print(torch.max(params[0]))"
   ]
  },
  {
   "cell_type": "code",
   "execution_count": 9,
   "metadata": {},
   "outputs": [
    {
     "data": {
      "text/plain": [
       "<matplotlib.collections.PathCollection at 0x7f5be66f65d0>"
      ]
     },
     "execution_count": 9,
     "metadata": {},
     "output_type": "execute_result"
    },
    {
     "data": {
      "image/png": "[encoded data removed]",
      "text/plain": [
       "<Figure size 1008x216 with 4 Axes>"
      ]
     },
     "metadata": {
      "needs_background": "light"
     },
     "output_type": "display_data"
    }
   ],
   "source": [
    "\n",
    "x1= (torch.arange(M).view(-1,1)).repeat(1,M).view(-1).to(device)\n",
    "x2 = (torch.arange(M)).repeat(M).to(device)\n",
    "\n",
    "x1 = x1.repeat(batch_size//(M*M))\n",
    "x2 = x2.repeat(batch_size//(M*M))\n",
    "\n",
    "one_hot1 = F.one_hot(x1, M).float()\n",
    "one_hot2 = F.one_hot(x2, M).float()\n",
    "\n",
    "\n",
    "tx1 = encoder1(one_hot1)\n",
    "tx2 = encoder2(one_hot2)\n",
    "\n",
    "tx111 = tx1.to('cpu').detach().numpy()\n",
    "tx222 = tx2.to('cpu').detach().numpy()\n",
    "\n",
    "\n",
    "\n",
    "\n",
    "fig, axs = plt.subplots(1, 4, figsize=(4*3+2,3))\n",
    "ax1 = axs[ 0]\n",
    "ax2 = axs[ 1]\n",
    "ax3 = axs[ 2]\n",
    "ax4 = axs[ 3]\n",
    "\n",
    "\n",
    "\n",
    "ax1.scatter(tx111[:,0],tx111[:,1], c='k', marker='x')    \n",
    "ax2.scatter(tx111[:,2],tx111[:,3], c='k', marker='x')\n",
    "ax3.scatter(tx111[:,4],tx111[:,5], c='k', marker='x')\n",
    "ax4.scatter(tx111[:,6],tx111[:,7], c='k', marker='x')\n",
    "\n",
    "\n",
    "ax1.scatter(tx222[:,0],tx222[:,1], c='red',  marker='o')    \n",
    "ax2.scatter(tx222[:,2],tx222[:,3], c='red',  marker='o')\n",
    "ax3.scatter(tx222[:,4],tx222[:,5], c='red',  marker='o')\n",
    "ax4.scatter(tx222[:,6],tx222[:,7], c='red',  marker='o')\n"
   ]
  },
  {
   "cell_type": "code",
   "execution_count": 10,
   "metadata": {},
   "outputs": [],
   "source": [
    "# torch.save({\n",
    "#             'Encoder1': encoder1.state_dict(),\n",
    "#             'Decoder1': decoder1.state_dict(),\n",
    "#             'Encoder2': encoder2.state_dict(),\n",
    "#             'Decoder2': decoder2.state_dict(),\n",
    "#             }, Path)\n",
    "\n"
   ]
  },
  {
   "cell_type": "code",
   "execution_count": 11,
   "metadata": {},
   "outputs": [
    {
     "name": "stdout",
     "output_type": "stream",
     "text": [
      "[0.3328704833984375, 0.2364654541015625, 0.1508026123046875, 0.0850677490234375, 0.0428009033203125, 0.0161285400390625, 0.0053253173828125, 0.0012715657552083333, 0.00022865409281716418, 2.9819463592728757e-05, 1.5956903594771242e-06]\n"
     ]
    }
   ],
   "source": [
    "\n",
    "\n",
    "SER1 = []\n",
    "SER2 = []\n",
    "\n",
    "\n",
    "minErr = 1e3\n",
    "maxSym = minErr*1e4\n",
    "batch=65536//M\n",
    "\n",
    "SNR_arr = np.arange(4,15,1)\n",
    "r = 2\n",
    "for snr in SNR_arr:    \n",
    "    EbNo_r = 10**(snr/10)\n",
    "    test_sigma = np.sqrt(1/(2*R*EbNo_r))\n",
    "\n",
    "    totErr1 = 0\n",
    "    totErr2 = 0\n",
    "    totSym = 0\n",
    "    while totErr1< minErr and totSym< maxSym:\n",
    "        x1= (torch.arange(M).view(-1,1)).repeat(1,M).view(-1).to(device)\n",
    "        x2 = (torch.arange(M)).repeat(M).to(device)\n",
    "        x1 = x1.repeat(batch_size//(M*M))\n",
    "        x2 = x2.repeat(batch_size//(M*M))\n",
    "        \n",
    "        one_hot1 = F.one_hot(x1, M).float()\n",
    "        one_hot2 = F.one_hot(x2, M).float()\n",
    "        \n",
    "        \n",
    "        \n",
    "        tx1 = encoder1(one_hot1)\n",
    "        tx2 = encoder2(one_hot2)\n",
    "        \n",
    "        noise1= test_sigma * torch.randn(tx1.shape).to(device)\n",
    "        noise2= test_sigma * torch.randn(tx1.shape).to(device)\n",
    "        rx1 = tx1+tx2 + noise1\n",
    "        rx2 = tx1+tx2 + noise2\n",
    "       \n",
    "        y_pred1 = decoder1(rx1)\n",
    "        y_pred2 = decoder1(rx2)\n",
    "\n",
    "        y1 = torch.argmax(y_pred1,-1)\n",
    "        y2 = torch.argmax(y_pred2,-1)\n",
    "\n",
    "\n",
    "        corr1 = np.sum(np.equal(x1.to('cpu').detach().numpy(), y1.to('cpu').detach().numpy()))\n",
    "        corr2 = np.sum(np.equal(x2.to('cpu').detach().numpy(), y2.to('cpu').detach().numpy()))\n",
    "\n",
    "        totErr1 += M*batch - corr1\n",
    "        \n",
    "        totErr2 += M*batch - corr2\n",
    "        totSym += M*batch\n",
    "\n",
    "\n",
    "    ser1 = totErr1/totSym\n",
    "    ser2 = totErr2/totSym\n",
    "    \n",
    "    SER1.append(ser1)\n",
    "    SER2.append(ser2)\n",
    "\n",
    "    \n",
    "\n",
    "    \n",
    "print(SER1)\n"
   ]
  },
  {
   "cell_type": "code",
   "execution_count": 12,
   "metadata": {},
   "outputs": [],
   "source": [
    "from io import StringIO\n",
    "\n",
    "\n",
    "\n",
    "tmpstr = StringIO(\"\"\"\n",
    "\n",
    "4.0042283298, 0.3273304262\n",
    "4.9936575053, 0.2274826238\n",
    "6.0084566596, 0.1429925304\n",
    "6.9978858351, 0.0792834539\n",
    "7.9873150106, 0.0378143531\n",
    "9.0021141649, 0.0145709457\n",
    "10.0042283298, 0.0045360282\n",
    "11.0063424947, 0.0010849815\n",
    "11.9957716702, 0.0001849396\n",
    "12.9978858351, 0.0000216346\n",
    "\"\"\")\n",
    "\n",
    "OShea_AE84 = np.genfromtxt(tmpstr, delimiter=',')"
   ]
  },
  {
   "cell_type": "code",
   "execution_count": 13,
   "metadata": {},
   "outputs": [
    {
     "data": {
      "image/png": "[encoded data removed]",
      "text/plain": [
       "<Figure size 432x288 with 1 Axes>"
      ]
     },
     "metadata": {
      "needs_background": "light"
     },
     "output_type": "display_data"
    }
   ],
   "source": [
    "SER_16QAM = np.array([0.394764002072174,   0.297284336602181 ,  0.206748434994456,\\\n",
    "                      0.130364530894198,   0.072921505882596,   0.035247490570099,  \\\n",
    "   0.014252925333135, 0.004627995262115,   0.001144954720374, \\\n",
    "   0.000201748105359,   0.000023232446886])    \n",
    "    \n",
    "\n",
    "plt.semilogy(SNR_arr, SER1, label='AE user1')\n",
    "plt.semilogy(SNR_arr, SER_16QAM, label='Time shareing w/ 16QAM ')\n",
    "plt.semilogy(OShea_AE84[:,0], OShea_AE84[:,1], marker='s', linestyle='None', label='OShea, Hoydis 2017 (8,4)')\n",
    "\n",
    "\n",
    "\n",
    "plt.legend()\n",
    "plt.grid(True)\n",
    "    \n",
    "    "
   ]
  },
  {
   "cell_type": "code",
   "execution_count": null,
   "metadata": {},
   "outputs": [],
   "source": []
  },
  {
   "cell_type": "code",
   "execution_count": null,
   "metadata": {},
   "outputs": [],
   "source": []
  },
  {
   "cell_type": "code",
   "execution_count": 14,
   "metadata": {},
   "outputs": [],
   "source": [
    "class Rotation(nn.Module):\n",
    "    def __init__(self):\n",
    "        super().__init__()    \n",
    "        self.theta = nn.ParameterList()\n",
    "        for i in range(N):\n",
    "            for j in range(i+1,N):\n",
    "                tmp = nn.Parameter(np.pi*2*torch.rand(size =(1,))) \n",
    "                self.theta.append(tmp)\n",
    "        \n",
    "            \n",
    "    def forward(self,x1, x2):    \n",
    "        tmp=0\n",
    "        for i in range(N):\n",
    "            for j in range(i+1,N):\n",
    "                \n",
    "                ### Define Givens matrix\n",
    "                R = torch.zeros(8,8).float().to(device)\n",
    "                for k in range(N):\n",
    "                    R[k][k] = 1\n",
    "                    R[i][i] = torch.cos(self.theta[tmp])\n",
    "                    R[j][j] = torch.cos(self.theta[tmp])\n",
    "                    R[i][j] = -torch.sin(self.theta[tmp])\n",
    "                    R[j][i] = torch.sin(self.theta[tmp])\n",
    "\n",
    "                tmp = tmp+1\n",
    "                x1 = torch.matmul(R, x1)\n",
    "                x2 = torch.matmul(R, x2)\n",
    "                \n",
    "        return x1, x2\n",
    "               \n",
    "rotate = Rotation().to(device)\n",
    "opt_r = Adam(rotate.parameters(), 1e-1)"
   ]
  },
  {
   "cell_type": "code",
   "execution_count": 15,
   "metadata": {},
   "outputs": [
    {
     "name": "stderr",
     "output_type": "stream",
     "text": [
      "loss=0.0: 100%|██████████| 200/200 [00:27<00:00,  7.16it/s]\n"
     ]
    }
   ],
   "source": [
    "\n",
    "\n",
    "const1 = encoder1(torch.eye(M).float().to(device))\n",
    "const2 = encoder2(torch.eye(M).float().to(device))\n",
    "\n",
    "gradient_steps = 200\n",
    "t = tqdm(range(len(range(gradient_steps))), desc=\"epoch\")\n",
    "loss_sv = []\n",
    "for I in t:\n",
    "    X1 = torch.transpose(const1, 1,0) # NxM\n",
    "    X2 = torch.transpose(const2, 1,0)\n",
    "   \n",
    "    X1, X2 = rotate(X1, X2)\n",
    "    \n",
    "    X1 = X1[0:N//2,:]\n",
    "    X2 = X2[N//2:,:]\n",
    "    \n",
    "    train_loss = torch.mean(torch.sum(X1**2, 0)) + torch.mean(torch.sum(X2**2, 0))\n",
    "\n",
    "    opt_r.zero_grad()\n",
    "    train_loss.backward(retain_graph=True )\n",
    "    opt_r.step()\n",
    "    loss_sv.append(train_loss.item())\n",
    "    \n",
    "    t.set_description(\"loss={:.1f}\".format(train_loss))\n",
    "    \n"
   ]
  },
  {
   "cell_type": "code",
   "execution_count": 16,
   "metadata": {},
   "outputs": [
    {
     "data": {
      "text/plain": [
       "[<matplotlib.lines.Line2D at 0x7f5be6351050>]"
      ]
     },
     "execution_count": 16,
     "metadata": {},
     "output_type": "execute_result"
    },
    {
     "data": {
      "image/png": "[encoded data removed]",
      "text/plain": [
       "<Figure size 432x288 with 1 Axes>"
      ]
     },
     "metadata": {
      "needs_background": "light"
     },
     "output_type": "display_data"
    }
   ],
   "source": [
    "plt.plot(loss_sv)"
   ]
  },
  {
   "cell_type": "code",
   "execution_count": 17,
   "metadata": {},
   "outputs": [
    {
     "data": {
      "text/plain": [
       "<matplotlib.collections.PathCollection at 0x7f5be62755d0>"
      ]
     },
     "execution_count": 17,
     "metadata": {},
     "output_type": "execute_result"
    },
    {
     "data": {
      "image/png": "[encoded data removed]",
      "text/plain": [
       "<Figure size 1008x216 with 4 Axes>"
      ]
     },
     "metadata": {
      "needs_background": "light"
     },
     "output_type": "display_data"
    }
   ],
   "source": [
    "X1 = torch.transpose(const1, 1,0) # NxM\n",
    "X2 = torch.transpose(const2, 1,0)\n",
    "\n",
    "\n",
    "\n",
    "X1, X2 = rotate(X1, X2)\n",
    "X1 =  torch.transpose(X1, 1,0) # M x N\n",
    "X2 =  torch.transpose(X2, 1,0) \n",
    "\n",
    "xx1 = X1.to('cpu').detach().numpy()\n",
    "xx2 = X2.to('cpu').detach().numpy()\n",
    "\n",
    "\n",
    "fig, axs = plt.subplots(1, 4, figsize=(4*3+2,3))\n",
    "ax1 = axs[0]\n",
    "ax2 = axs[1]\n",
    "ax3 = axs[2]\n",
    "ax4 = axs[3]\n",
    "\n",
    "\n",
    "\n",
    "ax1.scatter(xx1[:,0],xx1[:,1], c='k', marker='x')    \n",
    "ax2.scatter(xx1[:,2],xx1[:,3], c='k', marker='x')\n",
    "ax3.scatter(xx1[:,4],xx1[:,5], c='k', marker='x')\n",
    "ax4.scatter(xx1[:,6],xx1[:,7], c='k', marker='x')\n",
    "\n",
    "\n",
    "ax1.scatter(xx2[:,0],xx2[:,1], c='red',  marker='o')    \n",
    "ax2.scatter(xx2[:,2],xx2[:,3], c='red',  marker='o')\n",
    "ax3.scatter(xx2[:,4],xx2[:,5], c='red',  marker='o')\n",
    "ax4.scatter(xx2[:,6],xx2[:,7], c='red',  marker='o')\n"
   ]
  },
  {
   "cell_type": "code",
   "execution_count": null,
   "metadata": {},
   "outputs": [],
   "source": []
  }
 ],
 "metadata": {
  "accelerator": "GPU",
  "colab": {
   "collapsed_sections": [],
   "name": "MU-MIMO_Pytorch_CSIT.ipynb",
   "provenance": []
  },
  "kernelspec": {
   "display_name": "Python 3",
   "language": "python",
   "name": "python3"
  },
  "language_info": {
   "codemirror_mode": {
    "name": "ipython",
    "version": 3
   },
   "file_extension": ".py",
   "mimetype": "text/x-python",
   "name": "python",
   "nbconvert_exporter": "python",
   "pygments_lexer": "ipython3",
   "version": "3.7.7"
  },
  "toc": {
   "base_numbering": 1,
   "nav_menu": {},
   "number_sections": true,
   "sideBar": true,
   "skip_h1_title": false,
   "title_cell": "Table of Contents",
   "title_sidebar": "Contents",
   "toc_cell": true,
   "toc_position": {},
   "toc_section_display": true,
   "toc_window_display": false
  }
 },
 "nbformat": 4,
 "nbformat_minor": 1
}
