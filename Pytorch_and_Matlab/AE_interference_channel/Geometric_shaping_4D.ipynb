{
 "cells": [
  {
   "cell_type": "markdown",
   "id": "signed-analysis",
   "metadata": {
    "toc": true
   },
   "source": [
    "<h1>Table of Contents<span class=\"tocSkip\"></span></h1>\n",
    "<div class=\"toc\"><ul class=\"toc-item\"></ul></div>"
   ]
  },
  {
   "cell_type": "code",
   "execution_count": 1,
   "id": "efficient-keyboard",
   "metadata": {},
   "outputs": [
    {
     "name": "stdout",
     "output_type": "stream",
     "text": [
      "cuda\n"
     ]
    }
   ],
   "source": [
    "import numpy as np\n",
    "import torch \n",
    "import torch.nn.functional as F\n",
    "from torch import nn\n",
    "import scipy.io as io\n",
    "import scipy.special\n",
    "from scipy.stats import unitary_group\n",
    "import matplotlib.pyplot as plt\n",
    "\n",
    "from torch.optim import SGD, Adam\n",
    "from torch.utils import data\n",
    "import sys \n",
    "import time\n",
    "import timeit\n",
    "\n",
    "from tqdm import tqdm\n",
    "device = 'cuda' if torch.cuda.is_available() else 'cpu' \n",
    "\n",
    "print(device)\n",
    "\n"
   ]
  },
  {
   "cell_type": "code",
   "execution_count": 2,
   "id": "spoken-booking",
   "metadata": {},
   "outputs": [],
   "source": [
    "class Encoder(nn.Module):\n",
    "    def __init__(self, dims):\n",
    "        super().__init__()\n",
    "        if len(dims)<2: raise ValueError(\"Inputs list has to be at least lenght:2\")\n",
    "            \n",
    "        self.layers = nn.ModuleList()\n",
    "        for i in range(len(dims)-1):\n",
    "            self.layers.append(nn.Linear(dims[i], dims[i+1]))\n",
    "                    \n",
    "    def forward(self,x):\n",
    "        for i in range(len(self.layers)-1):\n",
    "            x =F.relu(self.layers[i](x))   \n",
    "        x = self.layers[-1](x)\n",
    "        x = x/ torch.sqrt(2*torch.mean(x**2))\n",
    "        return x\n",
    "\n",
    "        \n",
    "class Decoder(nn.Module):\n",
    "    def __init__(self, dims):\n",
    "        super().__init__()\n",
    "        if len(dims)<2: raise ValueError(\"Inputs list has to be at least lenght:2\") \n",
    "        self.layers = nn.ModuleList()\n",
    "        for i in range(len(dims)-1):\n",
    "            self.layers.append(nn.Linear(dims[i], dims[i+1]))\n",
    "    def forward(self,x):\n",
    "        for i in range(len(self.layers)-1):\n",
    "            x =F.relu(self.layers[i](x))\n",
    "            \n",
    "        x =  F.log_softmax(self.layers[-1](x), dim=-1 )\n",
    "        return x\n",
    "\n",
    "    \n",
    "    \n",
    "def awgn(x, snr):\n",
    "    sigma = torch.tensor(np.sqrt(0.5/(10**(snr/10)))).to(device)\n",
    "    noise = sigma * torch.randn(x.shape).to(device)\n",
    "    x = x+noise \n",
    "    return x\n",
    "\n"
   ]
  },
  {
   "cell_type": "code",
   "execution_count": null,
   "id": "controlled-directive",
   "metadata": {},
   "outputs": [],
   "source": []
  },
  {
   "cell_type": "code",
   "execution_count": 3,
   "id": "organized-tokyo",
   "metadata": {},
   "outputs": [
    {
     "name": "stderr",
     "output_type": "stream",
     "text": [
      "epoch=20000.0: 100%|██████████| 20000/20000 [02:08<00:00, 155.14it/s]\n"
     ]
    }
   ],
   "source": [
    "M = 16**2\n",
    "encoder = Encoder([M,10,10,4]).to(device)\n",
    "decoder = Decoder([4,20,20,M]).to(device)\n",
    "\n",
    "criterion= nn.NLLLoss()\n",
    "para = list(encoder.parameters()) + list(decoder.parameters())\n",
    "opt = Adam(para, lr=0.001)\n",
    "\n",
    "start_time = time.time()\n",
    "loss_sv = np.array([])\n",
    "\n",
    "train_snr = 8.5\n",
    "\n",
    "totEpoch = int(2e4)\n",
    "\n",
    "t = tqdm(range(1,totEpoch+1), desc=\"loss\")\n",
    "for III in t:\n",
    "    t.set_description(\"epoch={:.1f}\".format(III))\n",
    "    \n",
    "    EbNo_r = 10**(train_snr/10)\n",
    "    train_sigma = np.sqrt(1/(2*4*EbNo_r))\n",
    "    \n",
    "    mess = torch.randint(0,M,size=(25600,)).to(device)\n",
    "    one_hot = F.one_hot(mess).float()\n",
    "    tx = encoder(one_hot)\n",
    "\n",
    "    rx = tx + (train_sigma*torch.randn(tx.shape)).to(device)\n",
    "\n",
    "    y_pred = decoder(rx)\n",
    "    cross_entropy = criterion(y_pred, mess) \n",
    "                                        \n",
    "    opt.zero_grad()\n",
    "    cross_entropy.backward()\n",
    "    opt.step()\n",
    "\n",
    "    loss_sv = np.append(loss_sv,cross_entropy.item())\n",
    "         \n",
    "         \n",
    "  "
   ]
  },
  {
   "cell_type": "code",
   "execution_count": null,
   "id": "interesting-grave",
   "metadata": {},
   "outputs": [],
   "source": []
  },
  {
   "cell_type": "code",
   "execution_count": 4,
   "id": "concrete-clinton",
   "metadata": {},
   "outputs": [],
   "source": [
    "# mess = torch.arange(M).to(device)\n",
    "# one_hot = F.one_hot(mess).float()\n",
    "# tx = encoder(one_hot)\n",
    "# tx1 = tx.to('cpu').detach().numpy()\n",
    "# np.txt('AE_4D_GS_const', tx1, delimiter=',')"
   ]
  },
  {
   "cell_type": "code",
   "execution_count": null,
   "id": "fancy-depth",
   "metadata": {},
   "outputs": [],
   "source": []
  },
  {
   "cell_type": "code",
   "execution_count": 5,
   "id": "bizarre-lodging",
   "metadata": {},
   "outputs": [],
   "source": [
    "SNR_dB = np.arange(0,15,1)\n",
    "\n",
    "\n",
    "SER = np.array([])\n",
    "R = 4\n",
    "for snr in SNR_dB:\n",
    "    EbNo_r = 10**(snr/10)\n",
    "    test_sigma = np.sqrt(1/(2*4*EbNo_r))\n",
    "    \n",
    "    \n",
    "    num_mess = 6400\n",
    "    minErr = 2e3\n",
    "    minSym = 1e6\n",
    "    maxSym = minErr*1e4\n",
    "    totSym = 0\n",
    "    totErr = 0\n",
    "    while  totErr<minErr and totSym<maxSym or totSym< minSym:\n",
    "        mess = torch.randint(0,M,size=(num_mess,)).to(device)\n",
    "        one_hot = F.one_hot(mess).float()\n",
    "        tx = encoder(one_hot)\n",
    "        \n",
    "        rx = tx + (test_sigma*torch.randn(tx.shape)).to(device)\n",
    "       \n",
    "        y_pred = decoder(rx)\n",
    "        \n",
    "        m_hat = torch.argmax(y_pred, -1)\n",
    "        \n",
    "        err = torch.sum(torch.not_equal(mess, m_hat)).to('cpu').detach().numpy()\n",
    "       \n",
    "        totErr += err\n",
    "        totSym += num_mess\n",
    "    SER = np.append(SER, totErr/totSym)\n",
    "        \n"
   ]
  },
  {
   "cell_type": "code",
   "execution_count": 6,
   "id": "right-longitude",
   "metadata": {},
   "outputs": [
    {
     "data": {
      "image/png": "[encoded data removed]",
      "text/plain": [
       "<Figure size 432x288 with 1 Axes>"
      ]
     },
     "metadata": {
      "needs_background": "light"
     },
     "output_type": "display_data"
    }
   ],
   "source": [
    "\n",
    "M_2d=16\n",
    "\n",
    "snr_lin = R*10**((SNR_dB)/10)\n",
    "\n",
    "\n",
    "SER_theory = 3/2* scipy.special.erfc(np.sqrt(snr_lin/10))\n",
    "SER_theory = 1- (1 - SER_theory)*(1 -SER_theory)\n",
    "\n",
    "plt.semilogy(SNR_dB,SER_theory,label='Theory, 2d_16QAM')\n",
    "plt.semilogy(SNR_dB,SER,'-*',label='M={}, 4d_GS'.format(M_2d))\n",
    "plt.legend()\n",
    "plt.grid(True)\n"
   ]
  },
  {
   "cell_type": "code",
   "execution_count": 7,
   "id": "sticky-cream",
   "metadata": {},
   "outputs": [
    {
     "name": "stdout",
     "output_type": "stream",
     "text": [
      "[8.03431959e-01 7.22674910e-01 6.28189583e-01 5.23433083e-01\n",
      " 4.13969683e-01 3.07058984e-01 2.10541495e-01 1.31127950e-01\n",
      " 7.26095345e-02 3.48142879e-02 1.39839722e-02 4.51254656e-03\n",
      " 1.10896189e-03 1.93860887e-04 2.21055418e-05]\n",
      "[6.94678543e-01 6.17244228e-01 5.27562699e-01 4.29351115e-01\n",
      " 3.27708997e-01 2.30906648e-01 1.45270701e-01 8.15216959e-02\n",
      " 3.87300955e-02 1.51144506e-02 4.85469745e-03 1.17774906e-03\n",
      " 2.08890374e-04 2.52000000e-05 1.65000000e-06]\n"
     ]
    }
   ],
   "source": [
    "print(SER_theory)\n",
    "print(SER)"
   ]
  },
  {
   "cell_type": "code",
   "execution_count": null,
   "id": "extraordinary-decade",
   "metadata": {},
   "outputs": [],
   "source": []
  },
  {
   "cell_type": "code",
   "execution_count": null,
   "id": "after-lexington",
   "metadata": {},
   "outputs": [],
   "source": []
  }
 ],
 "metadata": {
  "kernelspec": {
   "display_name": "Python 3",
   "language": "python",
   "name": "python3"
  },
  "language_info": {
   "codemirror_mode": {
    "name": "ipython",
    "version": 3
   },
   "file_extension": ".py",
   "mimetype": "text/x-python",
   "name": "python",
   "nbconvert_exporter": "python",
   "pygments_lexer": "ipython3",
   "version": "3.7.7"
  },
  "toc": {
   "base_numbering": 1,
   "nav_menu": {},
   "number_sections": true,
   "sideBar": true,
   "skip_h1_title": false,
   "title_cell": "Table of Contents",
   "title_sidebar": "Contents",
   "toc_cell": true,
   "toc_position": {},
   "toc_section_display": true,
   "toc_window_display": false
  }
 },
 "nbformat": 4,
 "nbformat_minor": 5
}
