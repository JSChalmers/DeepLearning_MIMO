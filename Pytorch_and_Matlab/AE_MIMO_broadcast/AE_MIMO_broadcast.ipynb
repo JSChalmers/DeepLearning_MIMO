{
 "cells": [
  {
   "cell_type": "markdown",
   "metadata": {
    "toc": true
   },
   "source": [
    "<h1>Table of Contents<span class=\"tocSkip\"></span></h1>\n",
    "<div class=\"toc\"><ul class=\"toc-item\"></ul></div>"
   ]
  },
  {
   "cell_type": "code",
   "execution_count": 1,
   "metadata": {
    "colab": {
     "base_uri": "https://localhost:8080/",
     "height": 80
    },
    "colab_type": "code",
    "id": "P4eM9iEYBEPm",
    "outputId": "095b40b0-89f5-4be5-884c-397bbbd0d85c"
   },
   "outputs": [
    {
     "name": "stdout",
     "output_type": "stream",
     "text": [
      "cuda\n"
     ]
    }
   ],
   "source": [
    "import numpy as np\n",
    "import torch \n",
    "import torch.nn.functional as F\n",
    "from torch import nn\n",
    "import scipy.io as io\n",
    "import matplotlib.pyplot as plt\n",
    "\n",
    "from torch.optim import SGD, Adam\n",
    "from torch.utils import data\n",
    "\n",
    "device = 'cuda' if torch.cuda.is_available() else 'cpu'\n",
    "print(device)\n",
    "\n",
    "import time\n",
    "from tqdm import tqdm"
   ]
  },
  {
   "cell_type": "code",
   "execution_count": 2,
   "metadata": {
    "colab": {},
    "colab_type": "code",
    "id": "iWD-H5xQBEPp"
   },
   "outputs": [],
   "source": [
    "\n",
    "M=4\n",
    "NN_T = 1024\n",
    "NN_R=512\n",
    "\n",
    "Nt=2\n",
    "Nr=2"
   ]
  },
  {
   "cell_type": "code",
   "execution_count": null,
   "metadata": {},
   "outputs": [],
   "source": []
  },
  {
   "cell_type": "code",
   "execution_count": 3,
   "metadata": {
    "colab": {},
    "colab_type": "code",
    "id": "Al9ZMmg1BEPr"
   },
   "outputs": [],
   "source": [
    "\n",
    "class Encoder(nn.Module):\n",
    "    def __init__(self):\n",
    "        super(Encoder, self).__init__()\n",
    "        self.fc1 = nn.Linear(M**2+2*Nt*Nr, NN_T)\n",
    "        self.fc2 = nn.Linear(NN_T, NN_T)\n",
    "        self.fc3 = nn.Linear(NN_T, NN_T)\n",
    "        self.fc4 = nn.Linear(NN_T, 2*Nt)\n",
    "        \n",
    "    def forward(self, x):\n",
    "        x = F.relu(self.fc1(x))\n",
    "        x = F.relu(self.fc2(x))\n",
    "        x = F.relu(self.fc3(x))\n",
    "        x = self.fc4(x)\n",
    "        \n",
    "        y = x.reshape(-1,M,2*Nt)\n",
    "        norm = 1 / torch.sqrt(2*torch.mean(y**2, dim=(1,2),keepdim=True))\n",
    "        tx = y*norm\n",
    "        tx = tx.reshape(-1,2*Nt)\n",
    "        return tx\n",
    "            \n",
    "\n",
    "\n",
    "        \n",
    "class Decoder(nn.Module):\n",
    "    def __init__(self):\n",
    "        super(Decoder, self).__init__()\n",
    "        self.fc1 = nn.Linear(2 + 2*Nr, NN_R)  \n",
    "        self.fc2 = nn.Linear(NN_R, NN_R) \n",
    "        self.fc3 = nn.Linear(NN_R, NN_R) \n",
    "        self.fc4 = nn.Linear(NN_R, M)\n",
    "    def forward(self, x):\n",
    "        x = F.relu(self.fc1(x))\n",
    "        x = F.relu(self.fc2(x))\n",
    "        x = F.relu(self.fc3(x))\n",
    "        x = self.fc4(x)\n",
    "        decoded = F.log_softmax(x, dim=-1)\n",
    "        return decoded\n",
    "        \n",
    "        \n",
    "        \n"
   ]
  },
  {
   "cell_type": "code",
   "execution_count": null,
   "metadata": {},
   "outputs": [],
   "source": []
  },
  {
   "cell_type": "code",
   "execution_count": 4,
   "metadata": {},
   "outputs": [],
   "source": [
    "encoder = Encoder().to(device)\n",
    "decoder = Decoder().to(device)\n",
    "\n",
    "criterion= nn.NLLLoss()\n",
    "params = list(encoder.parameters()) + list(decoder.parameters())\n",
    "opt = Adam(params, lr = 0.0005)\n"
   ]
  },
  {
   "cell_type": "code",
   "execution_count": 5,
   "metadata": {},
   "outputs": [
    {
     "data": {
      "text/plain": [
       "<All keys matched successfully>"
      ]
     },
     "execution_count": 5,
     "metadata": {},
     "output_type": "execute_result"
    }
   ],
   "source": [
    "\n",
    "\n",
    "Path = 'AE_MUMIMO'\n",
    "checkpoint = torch.load(Path)\n",
    "encoder.load_state_dict(checkpoint['Encoder'])\n",
    "decoder.load_state_dict(checkpoint['Decoder'])\n",
    "\n"
   ]
  },
  {
   "cell_type": "code",
   "execution_count": 6,
   "metadata": {
    "colab": {
     "base_uri": "https://localhost:8080/",
     "height": 357
    },
    "colab_type": "code",
    "id": "WnFI9COKBEPu",
    "outputId": "178fc28b-3f21-47a6-f428-672f5d618013"
   },
   "outputs": [],
   "source": [
    "\n",
    "# ## Uncomment this section to perform trainning\n",
    "\n",
    "# ###### Training section\n",
    "\n",
    "\n",
    "\n",
    "\n",
    "# loss = np.array([])\n",
    "# train_snr=16\n",
    "\n",
    "\n",
    "# for train_snr in [12, 15, 18, 20]:\n",
    "#     for epochs in range(1000):\n",
    "#         batch = 640\n",
    "        \n",
    "#         Hr = torch.randn((batch, 2,2))/np.sqrt(2)\n",
    "#         Hi = torch.randn((batch, 2,2))/np.sqrt(2)\n",
    "#         Hr = Hr.to(device)\n",
    "#         Hi = Hi.to(device)\n",
    "\n",
    "#         HrR= Hr.repeat(1,M**2,1)\n",
    "#         HiR= Hi.repeat(1,M**2,1)\n",
    "#         HrR = HrR.reshape([-1, Nr,Nt])\n",
    "#         HiR = HiR.reshape([-1 ,Nr,Nt]) \n",
    "\n",
    "#         H = torch.cat([HrR.reshape(-1, Nr*Nt),HiR.reshape(-1, Nr*Nt)], -1)\n",
    "        \n",
    "#         H1= torch.cat([H[:,0:2], H[:,4:6]], -1)\n",
    "#         H2= torch.cat([H[:,2:4], H[:,6:8]], -1)\n",
    "\n",
    "#         data1 = torch.tensor([0,0,0,0,1,1,1,1,2,2,2,2,3,3,3,3]).repeat(H.shape[0]//(M**2)).to(device)\n",
    "#         data2 = torch.tensor([0,1,2,3,0,1,2,3,0,1,2,3,0,1,2,3]).repeat(H.shape[0]//(M**2)).to(device)\n",
    "\n",
    "#         train_data = 4*data1 + data2\n",
    "       \n",
    "#         one_hot = F.one_hot(train_data).float()\n",
    "\n",
    "#         Tx =encoder(torch.cat([one_hot, H], -1))\n",
    "\n",
    "\n",
    "#         Txr = (Tx[:, np.arange(0,2)]).view(-1,2,1)\n",
    "#         Txi = (Tx[:, np.arange(2,4)]).view(-1,2,1)\n",
    "\n",
    "\n",
    "#         Rxr = torch.bmm(HrR, Txr) - torch.bmm(HiR, Txi)\n",
    "#         Rxi = torch.bmm(HrR, Txi) + torch.bmm(HiR, Txr)\n",
    "\n",
    "#         rx1 = torch.cat([Rxr[:,0,:].view(-1,1), Rxi[:,0,:].view(-1,1)], axis=-1)\n",
    "#         rx2 = torch.cat([Rxr[:,1,:].view(-1,1), Rxi[:,1,:].view(-1,1)], axis=-1)\n",
    "\n",
    "#         sigma = np.sqrt(0.5/np.power(10, train_snr/10))\n",
    "#         rx1 = rx1 + (torch.randn(rx1.shape)*sigma).to(device)\n",
    "#         rx2 = rx2 + (torch.randn(rx2.shape)*sigma).to(device)  \n",
    "\n",
    "\n",
    "\n",
    "\n",
    "#         y_pred1 = decoder(torch.cat([rx1, H1],-1))\n",
    "#         y_pred2 = decoder(torch.cat([rx2, H2],-1))\n",
    "\n",
    "#         loss1 = criterion(y_pred1, data1) \n",
    "#         loss2 =  criterion(y_pred2, data2)\n",
    "\n",
    "\n",
    "\n",
    "#         cross_entropy = loss1 + loss2 \n",
    "#         opt.zero_grad()\n",
    "\n",
    "\n",
    "#         cross_entropy.backward()\n",
    "#         opt.step()\n",
    "\n",
    "#         l = cross_entropy.item()\n",
    "#         loss = np.append(loss, l)\n"
   ]
  },
  {
   "cell_type": "code",
   "execution_count": null,
   "metadata": {},
   "outputs": [],
   "source": []
  },
  {
   "cell_type": "code",
   "execution_count": 7,
   "metadata": {},
   "outputs": [],
   "source": [
    "# torch.save({\n",
    "#             'Encoder': encoder.state_dict(),\n",
    "#             'Decoder': decoder.state_dict(),\n",
    "#             }, Path)\n",
    "\n"
   ]
  },
  {
   "cell_type": "code",
   "execution_count": 8,
   "metadata": {
    "colab": {},
    "colab_type": "code",
    "id": "frohmjvYBEPz"
   },
   "outputs": [],
   "source": [
    "torch.cuda.empty_cache()\n",
    "SER =np.array([])\n",
    "SER1=np.array([])\n",
    "SER2=np.array([])\n",
    "\n",
    "SNR_arr = np.arange(0, 35,2)\n",
    "for snr in SNR_arr:\n",
    "    \n",
    "\n",
    "    totErr=0\n",
    "    totErr1=0\n",
    "    totErr2=0\n",
    "    totSym=0\n",
    "    maxErr=1e3\n",
    "    maxSym = 1e8\n",
    "    \n",
    "    while totErr<=maxErr and totSym<=maxSym:\n",
    "        torch.cuda.empty_cache()\n",
    "        \n",
    "        batch = 10*64\n",
    "        \n",
    "        Hr = torch.randn((batch, 2,2))/np.sqrt(2)\n",
    "        Hi = torch.randn((batch, 2,2))/np.sqrt(2)\n",
    "        Hr = Hr.to(device)\n",
    "        Hi = Hi.to(device)\n",
    "\n",
    "        HrR= Hr.repeat(1,M**2*5,1)\n",
    "        HiR= Hi.repeat(1,M**2*5,1)\n",
    "        HrR = HrR.reshape([-1, Nr,Nt])\n",
    "        HiR = HiR.reshape([-1 ,Nr,Nt]) \n",
    "\n",
    "        H = torch.cat([HrR.reshape(-1, Nr*Nt),HiR.reshape(-1, Nr*Nt)], -1)\n",
    "        \n",
    "        H1= torch.cat([H[:,0:2], H[:,4:6]], -1)\n",
    "        H2= torch.cat([H[:,2:4], H[:,6:8]], -1)\n",
    "\n",
    "        data1 = torch.tensor([0,0,0,0,1,1,1,1,2,2,2,2,3,3,3,3]).repeat(H.shape[0]//(M**2)).to(device)\n",
    "        data2 = torch.tensor([0,1,2,3,0,1,2,3,0,1,2,3,0,1,2,3]).repeat(H.shape[0]//(M**2)).to(device)\n",
    "\n",
    "        train_data = 4*data1 + data2\n",
    "        one_hot = F.one_hot(train_data).float()\n",
    "        \n",
    "        Tx =encoder(torch.cat([one_hot, H], -1))\n",
    "      \n",
    "        \n",
    "        Txr = (Tx[:, np.arange(0,2)]).view(-1,2,1)\n",
    "        Txi = (Tx[:, np.arange(2,4)]).view(-1,2,1)\n",
    "        \n",
    "        \n",
    "        Rxr = torch.bmm(HrR, Txr) - torch.bmm(HiR, Txi)\n",
    "        Rxi = torch.bmm(HrR, Txi) + torch.bmm(HiR, Txr)\n",
    "\n",
    "        rx1 = torch.cat([Rxr[:,0,:].view(-1,1), Rxi[:,0,:].view(-1,1)], axis=-1)\n",
    "        rx2 = torch.cat([Rxr[:,1,:].view(-1,1), Rxi[:,1,:].view(-1,1)], axis=-1)\n",
    "        \n",
    "        sigma = np.sqrt(0.5/np.power(10, snr/10))\n",
    "        rx1 = rx1 + (torch.randn(rx1.shape)*sigma).to(device)\n",
    "        rx2 = rx2 + (torch.randn(rx2.shape)*sigma).to(device)  \n",
    "    \n",
    "        \n",
    "        \n",
    "    \n",
    "        y_pred1 = decoder(torch.cat([rx1, H1],-1))\n",
    "        y_pred2 = decoder(torch.cat([rx2, H2],-1))\n",
    "\n",
    "        classification1 = torch.argmax(y_pred1, axis=-1).to('cpu').detach().numpy()\n",
    "        classification2 = torch.argmax(y_pred2, axis=-1).to('cpu').detach().numpy()\n",
    "\n",
    "        test_mess1 = data1.to('cpu').detach().numpy()\n",
    "        test_mess2 = data2.to('cpu').detach().numpy()\n",
    "        \n",
    "        correct1 = np.equal(classification1 , test_mess1)\n",
    "        correct2 = np.equal(classification2 , test_mess2)\n",
    "        \n",
    "        \n",
    "        err = 2*correct1.shape[0]-np.sum(correct1)-np.sum(correct2)    \n",
    "\n",
    "        totErr = totErr + err\n",
    "        totErr1  = totErr1 +  correct1.shape[0]-np.sum(correct1)\n",
    "        totErr2  = totErr2 +  correct1.shape[0]-np.sum(correct2)\n",
    "        totSym = totSym + 2* correct1.shape[0]\n",
    "\n",
    "\n",
    "    ser =totErr / totSym\n",
    "    ser1 =totErr1 / (totSym/2)\n",
    "    ser2 =totErr2 / (totSym/2)\n",
    "\n",
    "\n",
    "    SER = np.append(SER, ser)\n",
    "    SER1 = np.append(SER1, ser1)\n",
    "    SER2 = np.append(SER2, ser2)\n",
    "\n",
    "\n",
    "\n",
    "\n"
   ]
  },
  {
   "cell_type": "code",
   "execution_count": 9,
   "metadata": {
    "colab": {
     "base_uri": "https://localhost:8080/",
     "height": 279
    },
    "colab_type": "code",
    "id": "LmgYf3kUBEP3",
    "outputId": "56e52534-b153-4d4e-dd34-7bfd9bae7c03"
   },
   "outputs": [
    {
     "data": {
      "image/png": "[encoded data removed]",
      "text/plain": [
       "<Figure size 1152x648 with 1 Axes>"
      ]
     },
     "metadata": {
      "needs_background": "light"
     },
     "output_type": "display_data"
    }
   ],
   "source": [
    "plt.figure(figsize=(16,9))\n",
    "zero_forcing=np.array([0.354,0.209,0.102,0.044,0.01799,0.0071,0.00288,0.00115,0.00042,0.00018])\n",
    "vertor_per=np.array([0.275,0.138,0.042,0.0085,0.0015,0.0002,3.15e-5])\n",
    "plt.semilogy(np.arange(1,38,4), zero_forcing, '-*',label='Zero Forcing')\n",
    "plt.semilogy(SNR_arr, SER, '->',label='AE-Average-SER')\n",
    "plt.semilogy(np.arange(1,26,4), vertor_per,'-<', label='Vector Perturbation')\n",
    "plt.semilogy(SNR_arr, SER1, label='User1')\n",
    "plt.semilogy(SNR_arr, SER2, label='User2')\n",
    "plt.xlabel('SNR')\n",
    "plt.ylabel('SER')\n",
    "plt.legend()\n",
    "plt.grid()\n",
    "\n"
   ]
  },
  {
   "cell_type": "code",
   "execution_count": null,
   "metadata": {},
   "outputs": [],
   "source": []
  },
  {
   "cell_type": "code",
   "execution_count": null,
   "metadata": {},
   "outputs": [],
   "source": []
  }
 ],
 "metadata": {
  "accelerator": "GPU",
  "colab": {
   "collapsed_sections": [],
   "name": "MU-MIMO_Pytorch_CSIT.ipynb",
   "provenance": []
  },
  "kernelspec": {
   "display_name": "Python 3",
   "language": "python",
   "name": "python3"
  },
  "language_info": {
   "codemirror_mode": {
    "name": "ipython",
    "version": 3
   },
   "file_extension": ".py",
   "mimetype": "text/x-python",
   "name": "python",
   "nbconvert_exporter": "python",
   "pygments_lexer": "ipython3",
   "version": "3.7.7"
  },
  "toc": {
   "base_numbering": 1,
   "nav_menu": {},
   "number_sections": true,
   "sideBar": true,
   "skip_h1_title": false,
   "title_cell": "Table of Contents",
   "title_sidebar": "Contents",
   "toc_cell": true,
   "toc_position": {},
   "toc_section_display": true,
   "toc_window_display": false
  }
 },
 "nbformat": 4,
 "nbformat_minor": 1
}
