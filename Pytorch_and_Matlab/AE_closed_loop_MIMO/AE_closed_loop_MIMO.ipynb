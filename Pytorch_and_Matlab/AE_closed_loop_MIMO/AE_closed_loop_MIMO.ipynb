{
 "cells": [
  {
   "cell_type": "markdown",
   "metadata": {
    "toc": true
   },
   "source": [
    "<h1>Table of Contents<span class=\"tocSkip\"></span></h1>\n",
    "<div class=\"toc\"><ul class=\"toc-item\"></ul></div>"
   ]
  },
  {
   "cell_type": "code",
   "execution_count": 1,
   "metadata": {},
   "outputs": [
    {
     "name": "stdout",
     "output_type": "stream",
     "text": [
      "cuda\n"
     ]
    }
   ],
   "source": [
    "import numpy as np\n",
    "import torch \n",
    "import torch.nn.functional as F\n",
    "from torch import nn\n",
    "import scipy.io as io\n",
    "from scipy.stats import unitary_group\n",
    "import matplotlib.pyplot as plt\n",
    "\n",
    "from keras.utils import to_categorical\n",
    "from torch.optim import SGD, Adam\n",
    "from torch.utils import data\n",
    "import sys \n",
    "import time\n",
    "from tqdm import tqdm\n",
    "\n",
    "device = 'cuda' if torch.cuda.is_available() else 'cpu' \n",
    "print(device)\n"
   ]
  },
  {
   "cell_type": "code",
   "execution_count": null,
   "metadata": {},
   "outputs": [],
   "source": []
  },
  {
   "cell_type": "code",
   "execution_count": 2,
   "metadata": {},
   "outputs": [],
   "source": [
    "M=16\n",
    "Nt=2\n",
    "Nr=2\n",
    "\n",
    "\n",
    "Tx_NN=1024\n",
    "Rx_NN=1024\n"
   ]
  },
  {
   "cell_type": "code",
   "execution_count": 3,
   "metadata": {},
   "outputs": [],
   "source": [
    "class Encoder(nn.Module):\n",
    "    def __init__(self):\n",
    "        super(Encoder, self).__init__()\n",
    "        self.fc1 = nn.Linear(M+2*Nt*Nr, Tx_NN)\n",
    "        self.fc2 = nn.Linear(Tx_NN, Tx_NN)\n",
    "        self.fc3 = nn.Linear(Tx_NN, Tx_NN)\n",
    "        self.fc4 = nn.Linear(Tx_NN, 2*Nt)\n",
    "    def forward(self, x):\n",
    "        x = F.relu(self.fc1(x)) \n",
    "        x = F.relu(self.fc2(x))\n",
    "        x = F.relu(self.fc3(x))\n",
    "        x = (self.fc4(x))\n",
    "        y = x.reshape(-1,M,2*Nt)\n",
    "        norm = 1 / torch.sqrt(2*torch.mean(y**2, dim=(1,2),keepdim=True))\n",
    "        tx = y*norm\n",
    "        tx = tx.reshape(-1,2*Nt)\n",
    "        return tx\n",
    "            \n",
    "        \n",
    "class Decoder(nn.Module):\n",
    "    def __init__(self):\n",
    "        super(Decoder, self).__init__()\n",
    "        self.fc1= nn.Linear(2*Nr+2*Nt*Nr, Rx_NN)\n",
    "        self.fc2 = nn.Linear(Rx_NN, Rx_NN)\n",
    "        self.fc3 = nn.Linear(Rx_NN, Rx_NN)\n",
    "        self.fc4 = nn.Linear(Rx_NN, M)\n",
    "    def forward(self, x):\n",
    "        x = F.relu(self.fc1(x))\n",
    "        x = F.relu(self.fc2(x))\n",
    "        x = F.relu(self.fc3(x))\n",
    "        x = self.fc4(x)\n",
    "        decoded = F.log_softmax(x, dim=-1)\n",
    "        return decoded\n",
    "    \n",
    "def mimo_channel(xr, xi, Hr, Hi, sigma):\n",
    "    \"\"\" xr,xi has shape  [B, Tx*N,1]\n",
    "        Hr,Hi have shape [B, Rx, Tx]\n",
    "        y = H*x + n\n",
    "    \"\"\"\n",
    "    yr = torch.matmul(Hr,xr) - torch.matmul(Hi,xi)\n",
    "    yi = torch.matmul(Hr,xi) + torch.matmul(Hi,xr)\n",
    "    yr = yr + (torch.randn(yr.shape)*torch.tensor(sigma)).to(device)\n",
    "    yi = yi + (torch.randn(yr.shape)*torch.tensor(sigma)).to(device)\n",
    "    \n",
    "    y = torch.cat([yr.reshape(-1,Nr), yi.reshape(-1,Nr)],-1)\n",
    "    return y"
   ]
  },
  {
   "cell_type": "code",
   "execution_count": 4,
   "metadata": {},
   "outputs": [],
   "source": [
    "encoder = Encoder().to(device)\n",
    "decoder = Decoder().to(device)\n",
    "\n",
    "\n",
    "train_snr=12\n",
    "\n",
    "Path = 'AE_Close_loop_SNR{}dB-1024NR'.format(train_snr)\n",
    "checkpoint = torch.load(Path)\n",
    "encoder.load_state_dict(checkpoint['Encoder'])\n",
    "decoder.load_state_dict(checkpoint['Decoder'])\n",
    "\n",
    "criterion= nn.NLLLoss()\n",
    "opt = Adam(list(encoder.parameters())+list(decoder.parameters()), lr = 0.001)"
   ]
  },
  {
   "cell_type": "code",
   "execution_count": null,
   "metadata": {},
   "outputs": [],
   "source": []
  },
  {
   "cell_type": "code",
   "execution_count": 5,
   "metadata": {},
   "outputs": [],
   "source": [
    "# ##### Uncomment to train the AE from scratch\n",
    "\n",
    "# start_time = time.time()\n",
    "# print_interval = 1000\n",
    "# loss_sv = np.array([])\n",
    "\n",
    "\n",
    "# for snr in np.array([5,10,15,12]):\n",
    "#     train_snr = snr\n",
    "#     print(\"EsNo = {:.1f} dB\".format(train_snr), flush=True) \n",
    "#     gradient_steps = int(5e2)\n",
    "#     for epochs in range(gradient_steps):\n",
    "#         num_ch= 640\n",
    "        \n",
    "#         Hr = (torch.randn([num_ch, Nr, Nt])/torch.tensor(np.sqrt(2))).to(device)\n",
    "#         Hi = (torch.randn([num_ch, Nr, Nt])/torch.tensor(np.sqrt(2))).to(device)\n",
    "#         Hr = Hr.repeat(1,M,1)\n",
    "#         Hi = Hi.repeat(1,M,1)\n",
    "#         HrR = Hr.reshape([-1, Nr,Nt])\n",
    "#         HiR = Hi.reshape([-1 ,Nr,Nt])\n",
    "        \n",
    "#         H = torch.cat([HrR.reshape(-1, Nr*Nt),HiR.reshape(-1, Nr*Nt)], -1)\n",
    "    \n",
    "\n",
    "#         messages = (torch.arange(M)).repeat(num_ch).to(device)\n",
    "        \n",
    "#         one_hot = F.one_hot(messages).float()\n",
    "#         transmitted = encoder(torch.cat([one_hot, H],-1))\n",
    "    \n",
    "#         txR = transmitted[:, np.arange(0,2)].reshape(-1, Nt,1)\n",
    "#         txI = transmitted[:, np.arange(2,4)].reshape(-1, Nt,1)\n",
    "\n",
    "#         sigma = np.sqrt(0.5/np.power(10, train_snr/10))\n",
    "#         rx = mimo_channel(txR, txI, HrR, HiR, sigma)\n",
    "\n",
    "#         y_pred = decoder(torch.cat([rx,H],-1))\n",
    "\n",
    "\n",
    "#         cross_entropy = criterion(y_pred, messages) \n",
    "\n",
    "\n",
    "#         opt.zero_grad()\n",
    "\n",
    "#         cross_entropy.backward()\n",
    "#         opt.step()\n",
    "#         l = cross_entropy.item()\n",
    "#         if epochs%print_interval==0 or epochs==1:\n",
    "# #             t.set_description(\"loss={:.5f}\".format(l))\n",
    "# #             t.refresh() # to show immediately the update\n",
    "#             loss_sv = np.append(loss_sv,l)\n",
    "\n",
    "# print(time.time()-start_time)\n",
    "\n",
    "# plt.semilogy(loss_sv)\n",
    "# plt.grid(True)\n",
    "\n",
    "\n",
    "\n"
   ]
  },
  {
   "cell_type": "code",
   "execution_count": 6,
   "metadata": {},
   "outputs": [],
   "source": [
    "###### Save the trained model\n",
    "# torch.save({\n",
    "#             'Encoder': encoder.state_dict(),\n",
    "#             'Decoder': decoder.state_dict(),\n",
    "#             }, Path)\n"
   ]
  },
  {
   "cell_type": "code",
   "execution_count": null,
   "metadata": {},
   "outputs": [],
   "source": []
  },
  {
   "cell_type": "code",
   "execution_count": 7,
   "metadata": {},
   "outputs": [
    {
     "name": "stderr",
     "output_type": "stream",
     "text": [
      "SNR=24.0: 100%|██████████| 25/25 [26:29<00:00, 63.60s/it] \n"
     ]
    },
    {
     "data": {
      "text/plain": [
       "Text(0, 0.5, 'SER')"
      ]
     },
     "execution_count": 7,
     "metadata": {},
     "output_type": "execute_result"
    },
    {
     "data": {
      "text/plain": [
       "<Figure size 864x648 with 0 Axes>"
      ]
     },
     "metadata": {},
     "output_type": "display_data"
    },
    {
     "data": {
      "image/png": "[encoded data removed]",
      "text/plain": [
       "<Figure size 648x432 with 1 Axes>"
      ]
     },
     "metadata": {
      "needs_background": "light"
     },
     "output_type": "display_data"
    }
   ],
   "source": [
    "minErr = 1e4 # 50k = 8h\n",
    "maxSym = minErr/1e-5\n",
    "SNR_dB = np.arange(0, 25)\n",
    "SER_arr = []\n",
    "\n",
    "t = tqdm(range(len(SNR_dB)), desc=\"SNR=\")\n",
    "for II in t:\n",
    "    t.set_description(\"SNR={:.1f}\".format(SNR_dB[II]))\n",
    "    totErr = 0 \n",
    "    totSym = 0\n",
    "    num_ch=128*5\n",
    "    while totErr<minErr and (totSym<=maxSym):\n",
    "        totSym += num_ch*M  \n",
    "        num_ch= 128*5\n",
    "        Hr = (torch.randn([num_ch, Nr, Nt])/torch.tensor(np.sqrt(2))).to(device)\n",
    "        Hi = (torch.randn([num_ch, Nr, Nt])/torch.tensor(np.sqrt(2))).to(device)\n",
    "    \n",
    "        Hr = Hr.repeat(1,M,1)\n",
    "        Hi = Hi.repeat(1,M,1)\n",
    "        HrR = Hr.reshape([-1, Nr,Nt])\n",
    "        HiR = Hi.reshape([-1 ,Nr,Nt])\n",
    "        \n",
    "        H = torch.cat([HrR.reshape(-1, Nr*Nt),HiR.reshape(-1, Nr*Nt)], -1)\n",
    "    \n",
    "\n",
    "        messages = (torch.arange(M)).repeat(num_ch).to(device)\n",
    "        \n",
    "        one_hot = F.one_hot(messages).float()\n",
    "        transmitted = encoder(torch.cat([one_hot, H],-1))\n",
    "    \n",
    "        txR = transmitted[:, np.arange(0,2)].reshape(-1, Nt,1)\n",
    "        txI = transmitted[:, np.arange(2,4)].reshape(-1, Nt,1)\n",
    "\n",
    "        sigma = np.sqrt(0.5/np.power(10, SNR_dB[II]/10))\n",
    "    \n",
    "        rx = mimo_channel(txR, txI, HrR, HiR, sigma)\n",
    "        y_pred = decoder(torch.cat([rx,H],-1))\n",
    "\n",
    "        test_label = messages.to('cpu').detach().numpy()\n",
    "\n",
    "        classification = torch.argmax(y_pred, axis=-1).to('cpu').detach().numpy()\n",
    "        err = np.not_equal(classification , test_label)\n",
    "        totErr += np.sum(err)\n",
    "    SER_arr = np.append(SER_arr, totErr/(totSym))\n",
    "\n",
    "\n",
    "    \n",
    "\n",
    "\n",
    "plt.figure(figsize=(12,9))\n",
    "SNR = np.arange(0, 22)\n",
    "\n",
    "base_line = np.array([0.51663, 0.47059, 0.42939 ,0.3782,  0.34221, 0.30084 ,0.26423, 0.22573 ,0.1949,\n",
    "0.16623, 0.14124, 0.1161 , 0.09486 ,0.07995, 0.06518 ,0.05308, 0.04256, 0.03233,\n",
    "0.02639 ,0.02132, 0.0185 , 0.01276]) ### QPSK\n",
    "\n",
    "baseline2 = np.array([ 0.2576662,0.1635421, 0.093646,0.05488565,0.02207,\n",
    "0.0076935, 0.00230192,0.00048933, 0.000091090, 0.0000126550,\n",
    "0.000001195 ,0.0000000950, 0.0000000050] ) ## bits power allocation\n",
    "\n",
    "\n",
    "\n",
    "plt.figure(figsize=(9,6))    \n",
    "plt.semilogy(SNR_dB, SER_arr,'-*', label='AE-JS')\n",
    "plt.semilogy(SNR, base_line,label='QPSK+QPSK')\n",
    "plt.semilogy(np.arange(0,25,2), baseline2,'->', label='bits+power allocation')\n",
    "plt.grid(True)\n",
    "plt.legend()\n",
    "plt.xlabel('SNR')\n",
    "plt.ylabel('SER')\n"
   ]
  },
  {
   "cell_type": "code",
   "execution_count": null,
   "metadata": {},
   "outputs": [],
   "source": []
  },
  {
   "cell_type": "code",
   "execution_count": 8,
   "metadata": {},
   "outputs": [],
   "source": [
    "# torch.save({\n",
    "#             'Encoder': encoder.state_dict(),\n",
    "#             'Decoder': decoder.state_dict(),\n",
    "#             }, Path)\n",
    "\n"
   ]
  },
  {
   "cell_type": "code",
   "execution_count": null,
   "metadata": {},
   "outputs": [],
   "source": []
  },
  {
   "cell_type": "code",
   "execution_count": 9,
   "metadata": {},
   "outputs": [
    {
     "name": "stderr",
     "output_type": "stream",
     "text": [
      "EV1=1.4: 100%|██████████| 10/10 [00:27<00:00,  2.71s/it]\n"
     ]
    },
    {
     "data": {
      "text/plain": [
       "Text(0.5, 1.0, 'SNR=12dB, Ev2=0.5, train_Ev1=1.2 ')"
      ]
     },
     "execution_count": 9,
     "metadata": {},
     "output_type": "execute_result"
    },
    {
     "data": {
      "image/png": "[encoded data removed]",
      "text/plain": [
       "<Figure size 432x288 with 1 Axes>"
      ]
     },
     "metadata": {
      "needs_background": "light"
     },
     "output_type": "display_data"
    }
   ],
   "source": [
    "minErr = 1000 # 50k = 8h\n",
    "maxSym = minErr/1e-5\n",
    "EV1_arr = np.arange(0.5,1.5,0.1)\n",
    "EV2 = 0.5\n",
    "\n",
    "snr=12 ### SNR under consideration\n",
    "num_ch = 2000\n",
    "toterr=1e3\n",
    "SER_arr = np.array([])\n",
    "\n",
    "t = tqdm(range(len(EV1_arr)), desc=\"SNR=\")\n",
    "for III in t:\n",
    "    t.set_description(\"EV1={:.1f}\".format(EV1_arr[III]))\n",
    "    t.refresh() # to show immediately the update   \n",
    "    totErr = 0 \n",
    "    totSym = 0\n",
    "    totCorr = 0\n",
    "    while totErr<toterr and totSym<=maxSym:\n",
    "        totSym += num_ch * M\n",
    "        \n",
    "        Hr = (np.random.randn(num_ch, Nr, Nt)/np.sqrt(2))\n",
    "        Hi = (np.random.randn(num_ch, Nr, Nt)/np.sqrt(2))\n",
    "        \n",
    "        for i in range(num_ch): \n",
    "            V = unitary_group.rvs(2)\n",
    "            U = unitary_group.rvs(2)\n",
    "            Htmp = (np.matmul(U,np.matmul(np.array([[EV1_arr[III],0],[0, EV2]]),np.conj(V).T)))\n",
    "            Hr[i,:,:] = np.real(Htmp)\n",
    "            Hi[i,:,:] = np.imag(Htmp)\n",
    "        \n",
    "        Hr = torch.from_numpy(Hr).float().to(device)\n",
    "        Hi = torch.from_numpy(Hi).float().to(device)\n",
    "        \n",
    "        Hr = Hr.repeat(1,M,1)\n",
    "        Hi = Hi.repeat(1,M,1)\n",
    "        HrR = Hr.reshape([-1, Nr,Nt])\n",
    "        HiR = Hi.reshape([-1 ,Nr,Nt]) \n",
    "        H = torch.cat([HrR.reshape(-1, Nr*Nt),HiR.reshape(-1, Nr*Nt)], -1) \n",
    "        \n",
    "        \n",
    "        \n",
    "        messages = (torch.arange(M)).repeat(num_ch).to(device)\n",
    "        \n",
    "        one_hot = F.one_hot(messages).float()\n",
    "        transmitted = encoder(torch.cat([one_hot, H],-1))\n",
    "    \n",
    "        txR = transmitted[:, np.arange(0,2)].reshape(-1, Nt,1)\n",
    "        txI = transmitted[:, np.arange(2,4)].reshape(-1, Nt,1)\n",
    "\n",
    "\n",
    "        sigma = np.sqrt(0.5/np.power(10, snr/10))\n",
    "    \n",
    "        rx = mimo_channel(txR, txI, HrR, HiR, sigma)\n",
    "\n",
    "        y_pred = decoder(torch.cat([rx,H],-1))\n",
    "        \n",
    "    \n",
    "\n",
    "        test_label = messages.to('cpu').detach().numpy()\n",
    "\n",
    "        classification = torch.argmax(y_pred, axis=-1).to('cpu').detach().numpy()\n",
    "        err = np.not_equal(classification , test_label)\n",
    "        totErr += np.sum(err)\n",
    "    SER_arr = np.append(SER_arr, totErr/(totSym))\n",
    "\n",
    "\n",
    "plt.figure()\n",
    "EV_baseline = np.arange(5, 15)/10\n",
    "\n",
    "SER_ttt = np.array([0.08, 0.057,4.01e-2,2.8e-2, 1.679e-2, 1.05e-2,6.11e-3, 2.57e-3,1.01e-3,3.6e-4])\n",
    "opt_SER = np.array([0.068, 0.038, 0.021, 0.011, 0.0057,0.0027,0.0012,0.0006,0.00038,0.00016])\n",
    "plt.semilogy(EV1_arr, SER_arr, '-<',label='AE')\n",
    "plt.semilogy(EV_baseline, SER_ttt, '->',label=' bits-power-allocation')\n",
    "plt.semilogy(EV_baseline, opt_SER,'-*', label='4D otimized')\n",
    "plt.grid()\n",
    "plt.legend()\n",
    "plt.xlabel('EV1')\n",
    "plt.ylabel('SER')\n",
    "plt.title('SNR=12dB, Ev2=0.5, train_Ev1=1.2 ')\n"
   ]
  },
  {
   "cell_type": "code",
   "execution_count": null,
   "metadata": {},
   "outputs": [],
   "source": []
  },
  {
   "cell_type": "code",
   "execution_count": null,
   "metadata": {},
   "outputs": [],
   "source": []
  },
  {
   "cell_type": "code",
   "execution_count": null,
   "metadata": {},
   "outputs": [],
   "source": []
  },
  {
   "cell_type": "code",
   "execution_count": null,
   "metadata": {},
   "outputs": [],
   "source": []
  },
  {
   "cell_type": "code",
   "execution_count": null,
   "metadata": {},
   "outputs": [],
   "source": []
  },
  {
   "cell_type": "code",
   "execution_count": null,
   "metadata": {},
   "outputs": [],
   "source": []
  },
  {
   "cell_type": "code",
   "execution_count": null,
   "metadata": {},
   "outputs": [],
   "source": []
  },
  {
   "cell_type": "code",
   "execution_count": null,
   "metadata": {},
   "outputs": [],
   "source": []
  }
 ],
 "metadata": {
  "kernelspec": {
   "display_name": "Python 3",
   "language": "python",
   "name": "python3"
  },
  "language_info": {
   "codemirror_mode": {
    "name": "ipython",
    "version": 3
   },
   "file_extension": ".py",
   "mimetype": "text/x-python",
   "name": "python",
   "nbconvert_exporter": "python",
   "pygments_lexer": "ipython3",
   "version": "3.7.7"
  },
  "toc": {
   "base_numbering": 1,
   "nav_menu": {},
   "number_sections": true,
   "sideBar": true,
   "skip_h1_title": false,
   "title_cell": "Table of Contents",
   "title_sidebar": "Contents",
   "toc_cell": true,
   "toc_position": {},
   "toc_section_display": true,
   "toc_window_display": false
  }
 },
 "nbformat": 4,
 "nbformat_minor": 4
}
