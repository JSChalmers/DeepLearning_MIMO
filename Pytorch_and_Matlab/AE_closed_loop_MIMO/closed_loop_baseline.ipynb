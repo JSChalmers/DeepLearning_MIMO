{
 "cells": [
  {
   "cell_type": "markdown",
   "id": "841da0a8",
   "metadata": {
    "toc": true
   },
   "source": [
    "<h1>Table of Contents<span class=\"tocSkip\"></span></h1>\n",
    "<div class=\"toc\"><ul class=\"toc-item\"></ul></div>"
   ]
  },
  {
   "cell_type": "code",
   "execution_count": 1,
   "id": "c934b16c",
   "metadata": {},
   "outputs": [],
   "source": [
    "import numpy as np\n",
    "import scipy\n",
    "from scipy import special\n",
    "from scipy import signal\n",
    "import scipy.io as io\n",
    "import matplotlib.pyplot as plt\n"
   ]
  },
  {
   "cell_type": "code",
   "execution_count": 11,
   "id": "06ebfb28",
   "metadata": {},
   "outputs": [],
   "source": [
    "def qfunc(x):\n",
    "    return 0.5-0.5*special.erf(x/np.sqrt(2))\n",
    "\n",
    "def BPSK_SER(snr_lin):\n",
    "#     snr_lin = 10**(snr/10)\n",
    "    return qfunc(np.sqrt(2*snr_lin))\n",
    "\n",
    "def QPSK_SER(snr_lin):\n",
    "#     snr_lin = 10**(snr/10)\n",
    "    ser = 2*qfunc(np.sqrt(snr_lin))-  qfunc(np.sqrt(snr_lin))**2\n",
    "    return ser\n",
    "\n",
    "# def QAM16_SER(snr_lin):\n",
    "# #     snr_lin = 10**(snr/10)\n",
    "#     ser = 1.5*special.erfc(np.sqrt(snr_lin/10))\n",
    "#     return ser\n",
    "\n",
    "def QAM16_SER(snr_lin):\n",
    "    M=16\n",
    "    k = np.sqrt(3/(2*(M-1)))\n",
    "    ser_theory  = 2 * (1-1/np.sqrt(M))* special.erfc(k* np.sqrt(snr_lin)) - \\\n",
    "                     (1- 2/np.sqrt(M) + 1/M) * (special.erfc(k* np.sqrt(snr_lin)))**2\n",
    "    return ser_theory\n",
    "\n",
    "\n",
    "xopt2 = [1.754915603911746, 0.490892231915727, 0.689096398974708];\n",
    "def QAM16_GS_SER(snr_lin):  ### SER of Geometrically shaped 16QAM\n",
    "    ser_theory = xopt2[0]*(qfunc(xopt2[1]*(np.sqrt(snr_lin)-xopt2[2])));\n",
    "    return ser_theory\n",
    "\n",
    "\n",
    "\n",
    "xopt1= [2.14880834, 0.67083375, 0.0934713]\n",
    "def SER_8PSK(snr_lin): ### SER of Geometrically shaped 8PSK\n",
    "    ser = xopt1[0] * ( qfunc(xopt1[1]* np.sqrt(snr_lin)- xopt1[2] ) )\n",
    "    return ser\n",
    "\n",
    "    "
   ]
  },
  {
   "cell_type": "code",
   "execution_count": null,
   "id": "0fbf8ffa",
   "metadata": {},
   "outputs": [],
   "source": []
  },
  {
   "cell_type": "code",
   "execution_count": null,
   "id": "b3a0c66b",
   "metadata": {},
   "outputs": [],
   "source": []
  },
  {
   "cell_type": "code",
   "execution_count": 3,
   "id": "9914e2bf",
   "metadata": {},
   "outputs": [],
   "source": [
    "snr_arr = np.arange(0,21,2)\n",
    "number_channel = 10000 ### increase num_ch to get smoother curve\n",
    "ser_QPSK=[]\n",
    "ser_opt = []\n",
    "\n",
    "for snr in snr_arr:\n",
    "    snr_linear = 10**(snr/10)\n",
    "   \n",
    "    \n",
    "    ser_qpsk_arr = []\n",
    "   \n",
    "    ser_opt_arr = []\n",
    "    for i in range(number_channel):\n",
    "        H = (np.random.randn(2,2) + 1j*np.random.randn(2,2))/np.sqrt(2)\n",
    "        [U,S,V] = np.linalg.svd(H) #### Compute channel gain using SVD\n",
    "        \n",
    "        \n",
    "        s1 = S[0]\n",
    "        s2 = S[1]\n",
    "        snr1 = (s1**2) * snr_linear\n",
    "        snr2 = (s2**2) * snr_linear\n",
    "        \n",
    "        ser_qpsk = 1 - (1-QPSK_SER(snr1))*(1-QPSK_SER(snr2))\n",
    "        ser_qpsk_arr.append(ser_qpsk)\n",
    "        \n",
    "        \n",
    "        ##### QPSK with Power allocation\n",
    "        def SEP_22(P1):\n",
    "            ser = QPSK_SER(P1* snr1) + QPSK_SER((2-P1)* snr2) - QPSK_SER(P1* snr1)*QPSK_SER((2-P1)* snr2)\n",
    "            return ser\n",
    "        opt_tmp  = scipy.optimize.fminbound(SEP_22, 0, 2)\n",
    "        ser_qpsk_pow_tmp = SEP_22(opt_tmp)\n",
    "        \n",
    "    \n",
    "        ############ 16-QAM ######################\n",
    "        ser_16qam_tmp = QAM16_SER(2* snr1) ### All power used in the first stream \n",
    "      \n",
    "      \n",
    "        ############ 8PSK + BPSK  ######################\n",
    "        def SEP_o2_8PSK(P1):\n",
    "            ser = SER_8PSK(P1* snr1) + BPSK_SER((2-P1)* snr2) - SER_8PSK(P1* snr1)*BPSK_SER((2-P1)* snr2)\n",
    "            return ser\n",
    "        opt_tmp  = scipy.optimize.fminbound(SEP_o2_8PSK, 0, 2)    \n",
    "        ser_2_8_tmp = SEP_o2_8PSK(opt_tmp)\n",
    "    \n",
    "        ser_opt_arr.append( np.min([ser_qpsk_pow_tmp, ser_16qam_tmp, ser_2_8_tmp] )) \n",
    "        \n",
    "        \n",
    "        \n",
    "    ser_QPSK.append(np.mean(ser_qpsk_arr))\n",
    "    ser_opt.append(np.mean(ser_opt_arr))\n"
   ]
  },
  {
   "cell_type": "code",
   "execution_count": null,
   "id": "9f03c033",
   "metadata": {},
   "outputs": [],
   "source": []
  },
  {
   "cell_type": "code",
   "execution_count": 4,
   "id": "a0895a2c",
   "metadata": {},
   "outputs": [
    {
     "data": {
      "image/png": "[encoded data removed]",
      "text/plain": [
       "<Figure size 432x288 with 1 Axes>"
      ]
     },
     "metadata": {
      "needs_background": "light"
     },
     "output_type": "display_data"
    }
   ],
   "source": [
    "plt.semilogy(snr_arr,ser_QPSK, '-*', label='QPSK w/ eq power')\n",
    "plt.semilogy(snr_arr,ser_opt, '-*', label='SVD w/ bit/power allocation')\n",
    "\n",
    "plt.legend()\n",
    "plt.grid(True)\n",
    "        "
   ]
  },
  {
   "cell_type": "code",
   "execution_count": 5,
   "id": "e53755e6",
   "metadata": {},
   "outputs": [
    {
     "data": {
      "text/plain": [
       "[0.3467177545229861,\n",
       " 0.2274441212202355,\n",
       " 0.12701795250771514,\n",
       " 0.05853890762531872,\n",
       " 0.022080557638315894,\n",
       " 0.00687038219124564,\n",
       " 0.001863674296172119,\n",
       " 0.00047496240219714847,\n",
       " 9.503882043985528e-05,\n",
       " 8.952134392124282e-06,\n",
       " 4.9479384377382435e-06]"
      ]
     },
     "execution_count": 5,
     "metadata": {},
     "output_type": "execute_result"
    }
   ],
   "source": [
    "ser_opt"
   ]
  },
  {
   "cell_type": "code",
   "execution_count": null,
   "id": "8d6b1560",
   "metadata": {},
   "outputs": [],
   "source": []
  }
 ],
 "metadata": {
  "kernelspec": {
   "display_name": "Python 3",
   "language": "python",
   "name": "python3"
  },
  "language_info": {
   "codemirror_mode": {
    "name": "ipython",
    "version": 3
   },
   "file_extension": ".py",
   "mimetype": "text/x-python",
   "name": "python",
   "nbconvert_exporter": "python",
   "pygments_lexer": "ipython3",
   "version": "3.7.10"
  },
  "toc": {
   "base_numbering": 1,
   "nav_menu": {},
   "number_sections": true,
   "sideBar": true,
   "skip_h1_title": false,
   "title_cell": "Table of Contents",
   "title_sidebar": "Contents",
   "toc_cell": true,
   "toc_position": {},
   "toc_section_display": true,
   "toc_window_display": false
  }
 },
 "nbformat": 4,
 "nbformat_minor": 5
}
