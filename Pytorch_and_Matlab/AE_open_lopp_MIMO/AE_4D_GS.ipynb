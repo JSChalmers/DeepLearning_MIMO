{
 "cells": [
  {
   "cell_type": "markdown",
   "id": "formed-visiting",
   "metadata": {
    "toc": true
   },
   "source": [
    "<h1>Table of Contents<span class=\"tocSkip\"></span></h1>\n",
    "<div class=\"toc\"><ul class=\"toc-item\"></ul></div>"
   ]
  },
  {
   "cell_type": "code",
   "execution_count": 1,
   "id": "subsequent-beauty",
   "metadata": {},
   "outputs": [
    {
     "name": "stdout",
     "output_type": "stream",
     "text": [
      "cuda\n"
     ]
    }
   ],
   "source": [
    "import numpy as np\n",
    "import torch \n",
    "import torch.nn.functional as F\n",
    "from torch import nn\n",
    "import scipy.io as io\n",
    "import scipy.special\n",
    "from scipy.stats import unitary_group\n",
    "import matplotlib.pyplot as plt\n",
    "\n",
    "from torch.optim import SGD, Adam\n",
    "from torch.utils import data\n",
    "import sys \n",
    "import time\n",
    "import timeit\n",
    "\n",
    "from tqdm import tqdm\n",
    "device = 'cuda' if torch.cuda.is_available() else 'cpu' \n",
    "\n",
    "print(device)\n",
    "\n"
   ]
  },
  {
   "cell_type": "code",
   "execution_count": 2,
   "id": "associate-polyester",
   "metadata": {},
   "outputs": [],
   "source": [
    "class Encoder(nn.Module):\n",
    "    def __init__(self, dims):\n",
    "        super().__init__()\n",
    "        if len(dims)<2: raise ValueError(\"Inputs list has to be at least lenght:2\")\n",
    "            \n",
    "        self.layers = nn.ModuleList()\n",
    "        for i in range(len(dims)-1):\n",
    "            self.layers.append(nn.Linear(dims[i], dims[i+1]))\n",
    "                    \n",
    "    def forward(self,x):\n",
    "        for i in range(len(self.layers)-1):\n",
    "            x =F.relu(self.layers[i](x))   \n",
    "        x = self.layers[-1](x)\n",
    "        x = x/ torch.sqrt(2*torch.mean(x**2))\n",
    "        return x\n",
    "\n",
    "        \n",
    "class Decoder(nn.Module):\n",
    "    def __init__(self, dims):\n",
    "        super().__init__()\n",
    "        if len(dims)<2: raise ValueError(\"Inputs list has to be at least lenght:2\") \n",
    "        self.layers = nn.ModuleList()\n",
    "        for i in range(len(dims)-1):\n",
    "            self.layers.append(nn.Linear(dims[i], dims[i+1]))\n",
    "    def forward(self,x):\n",
    "        for i in range(len(self.layers)-1):\n",
    "            x =F.relu(self.layers[i](x))\n",
    "            \n",
    "        x =  F.log_softmax(self.layers[-1](x), dim=-1 )\n",
    "        return x\n",
    "\n",
    "    \n",
    "    \n",
    "def awgn(x, snr):\n",
    "    sigma = torch.tensor(np.sqrt(0.5/(10**(snr/10)))).to(device)\n",
    "    noise = sigma * torch.randn(x.shape).to(device)\n",
    "    x = x+noise \n",
    "    return x\n",
    "\n"
   ]
  },
  {
   "cell_type": "code",
   "execution_count": null,
   "id": "several-carbon",
   "metadata": {},
   "outputs": [],
   "source": []
  },
  {
   "cell_type": "code",
   "execution_count": 3,
   "id": "developing-hearing",
   "metadata": {},
   "outputs": [
    {
     "name": "stderr",
     "output_type": "stream",
     "text": [
      "epoch=10000.0: 100%|██████████| 10000/10000 [00:58<00:00, 169.63it/s]\n"
     ]
    }
   ],
   "source": [
    "M = 16**2\n",
    "encoder = Encoder([M,10,10,4]).to(device)\n",
    "decoder = Decoder([4,20,20,M]).to(device)\n",
    "\n",
    "criterion= nn.NLLLoss()\n",
    "para = list(encoder.parameters()) + list(decoder.parameters())\n",
    "opt = Adam(para, lr=0.001)\n",
    "\n",
    "start_time = time.time()\n",
    "loss_sv = np.array([])\n",
    "\n",
    "train_snr=12\n",
    "\n",
    "totEpoch = 10000\n",
    "\n",
    "\n",
    "t = tqdm(range(1,totEpoch+1), desc=\"loss\")\n",
    "for III in t:\n",
    "    t.set_description(\"epoch={:.1f}\".format(III))\n",
    "    \n",
    "    mess = torch.randint(0,M,size=(25600,)).to(device)\n",
    "    one_hot = F.one_hot(mess).float()\n",
    "    tx = encoder(one_hot)\n",
    "\n",
    "    rx = awgn(tx, train_snr)\n",
    "\n",
    "    y_pred = decoder(rx)\n",
    "    cross_entropy = criterion(y_pred, mess) \n",
    "                                        \n",
    "    opt.zero_grad()\n",
    "    cross_entropy.backward()\n",
    "    opt.step()\n",
    "\n",
    "    loss_sv = np.append(loss_sv,cross_entropy.item())\n",
    "         \n",
    "         \n",
    "  "
   ]
  },
  {
   "cell_type": "code",
   "execution_count": null,
   "id": "sunset-papua",
   "metadata": {},
   "outputs": [],
   "source": []
  },
  {
   "cell_type": "code",
   "execution_count": null,
   "id": "wrapped-times",
   "metadata": {},
   "outputs": [],
   "source": []
  },
  {
   "cell_type": "code",
   "execution_count": 4,
   "id": "devoted-briefing",
   "metadata": {},
   "outputs": [
    {
     "ename": "AttributeError",
     "evalue": "module 'numpy' has no attribute 'txt'",
     "output_type": "error",
     "traceback": [
      "\u001b[0;31m---------------------------------------------------------------------------\u001b[0m",
      "\u001b[0;31mAttributeError\u001b[0m                            Traceback (most recent call last)",
      "\u001b[0;32m<ipython-input-4-bcfd39c258c4>\u001b[0m in \u001b[0;36m<module>\u001b[0;34m\u001b[0m\n\u001b[1;32m      3\u001b[0m \u001b[0mtx\u001b[0m \u001b[0;34m=\u001b[0m \u001b[0mencoder\u001b[0m\u001b[0;34m(\u001b[0m\u001b[0mone_hot\u001b[0m\u001b[0;34m)\u001b[0m\u001b[0;34m\u001b[0m\u001b[0;34m\u001b[0m\u001b[0m\n\u001b[1;32m      4\u001b[0m \u001b[0mtx1\u001b[0m \u001b[0;34m=\u001b[0m \u001b[0mtx\u001b[0m\u001b[0;34m.\u001b[0m\u001b[0mto\u001b[0m\u001b[0;34m(\u001b[0m\u001b[0;34m'cpu'\u001b[0m\u001b[0;34m)\u001b[0m\u001b[0;34m.\u001b[0m\u001b[0mdetach\u001b[0m\u001b[0;34m(\u001b[0m\u001b[0;34m)\u001b[0m\u001b[0;34m.\u001b[0m\u001b[0mnumpy\u001b[0m\u001b[0;34m(\u001b[0m\u001b[0;34m)\u001b[0m\u001b[0;34m\u001b[0m\u001b[0;34m\u001b[0m\u001b[0m\n\u001b[0;32m----> 5\u001b[0;31m \u001b[0mnp\u001b[0m\u001b[0;34m.\u001b[0m\u001b[0mtxt\u001b[0m\u001b[0;34m(\u001b[0m\u001b[0;34m'AE_4D_GS_const'\u001b[0m\u001b[0;34m,\u001b[0m \u001b[0mtx1\u001b[0m\u001b[0;34m,\u001b[0m \u001b[0mdelimiter\u001b[0m\u001b[0;34m=\u001b[0m\u001b[0;34m','\u001b[0m\u001b[0;34m)\u001b[0m\u001b[0;34m\u001b[0m\u001b[0;34m\u001b[0m\u001b[0m\n\u001b[0m",
      "\u001b[0;32m~/miniconda3/envs/tx_learning/lib/python3.7/site-packages/numpy/__init__.py\u001b[0m in \u001b[0;36m__getattr__\u001b[0;34m(attr)\u001b[0m\n\u001b[1;32m    218\u001b[0m             \u001b[0;32melse\u001b[0m\u001b[0;34m:\u001b[0m\u001b[0;34m\u001b[0m\u001b[0;34m\u001b[0m\u001b[0m\n\u001b[1;32m    219\u001b[0m                 raise AttributeError(\"module {!r} has no attribute \"\n\u001b[0;32m--> 220\u001b[0;31m                                      \"{!r}\".format(__name__, attr))\n\u001b[0m\u001b[1;32m    221\u001b[0m \u001b[0;34m\u001b[0m\u001b[0m\n\u001b[1;32m    222\u001b[0m         \u001b[0;32mdef\u001b[0m \u001b[0m__dir__\u001b[0m\u001b[0;34m(\u001b[0m\u001b[0;34m)\u001b[0m\u001b[0;34m:\u001b[0m\u001b[0;34m\u001b[0m\u001b[0;34m\u001b[0m\u001b[0m\n",
      "\u001b[0;31mAttributeError\u001b[0m: module 'numpy' has no attribute 'txt'"
     ]
    }
   ],
   "source": [
    "mess = torch.arange(M).to(device)\n",
    "one_hot = F.one_hot(mess).float()\n",
    "tx = encoder(one_hot)\n",
    "tx1 = tx.to('cpu').detach().numpy()\n",
    "np.txt('AE_4D_GS_const', tx1, delimiter=',')"
   ]
  },
  {
   "cell_type": "code",
   "execution_count": null,
   "id": "human-liechtenstein",
   "metadata": {},
   "outputs": [],
   "source": []
  },
  {
   "cell_type": "code",
   "execution_count": null,
   "id": "rural-bobby",
   "metadata": {},
   "outputs": [],
   "source": [
    "SNR_dB = np.arange(0,22,2)\n",
    "SER = np.array([])\n",
    "\n",
    "for snr in SNR_dB:\n",
    "    num_mess = 6400\n",
    "    minErr = 1e3\n",
    "    minSym = 1e6\n",
    "    maxSym = minErr*1e4\n",
    "    totSym = 0\n",
    "    totErr = 0\n",
    "    while  totErr<minErr and totSym<maxSym or totSym< minSym:\n",
    "        mess = torch.randint(0,M,size=(num_mess,)).to(device)\n",
    "        one_hot = F.one_hot(mess).float()\n",
    "        tx = encoder(one_hot)\n",
    "        rx = awgn(tx, snr)\n",
    "        rx_constant = rx.clone().detach().requires_grad_(False) ### no gradients in the channel model\n",
    "        \n",
    "        y_pred = decoder(rx_constant)\n",
    "        \n",
    "        m_hat = torch.argmax(y_pred, -1)\n",
    "        \n",
    "        err = torch.sum(torch.not_equal(mess, m_hat)).to('cpu').detach().numpy()\n",
    "       \n",
    "        totErr += err\n",
    "        totSym += num_mess\n",
    "    SER = np.append(SER, totErr/totSym)\n",
    "        \n",
    "\n",
    "\n",
    "\n",
    "\n",
    "snr_lin = 10**(SNR_dB/10)\n",
    "\n"
   ]
  },
  {
   "cell_type": "code",
   "execution_count": null,
   "id": "loving-joining",
   "metadata": {},
   "outputs": [],
   "source": [
    "\n",
    "M_2d=16\n",
    "k = np.sqrt(1/(2/3 * (M_2d-1)))\n",
    "\n",
    "\n",
    "SER_theory = 2*(1-1/np.sqrt(M_2d))* scipy.special.erfc(k* np.sqrt(snr_lin)) - (1-2/np.sqrt(M)+1/M)*(scipy.special.erfc(k* np.sqrt(snr_lin)))**2\n",
    "SER_theory = 1- (1 - SER_theory)*(1 -SER_theory)\n",
    "\n",
    "plt.semilogy(SNR_dB,SER_theory,label='Theory, 2d_16QAM')\n",
    "plt.semilogy(SNR_dB,SER,'-*',label='M={}, 4d_GS'.format(M_2d))\n",
    "plt.legend()\n",
    "plt.grid(True)\n",
    "\n"
   ]
  },
  {
   "cell_type": "code",
   "execution_count": null,
   "id": "sustained-candidate",
   "metadata": {},
   "outputs": [],
   "source": []
  },
  {
   "cell_type": "code",
   "execution_count": null,
   "id": "bottom-richmond",
   "metadata": {},
   "outputs": [],
   "source": []
  }
 ],
 "metadata": {
  "kernelspec": {
   "display_name": "Python 3",
   "language": "python",
   "name": "python3"
  },
  "language_info": {
   "codemirror_mode": {
    "name": "ipython",
    "version": 3
   },
   "file_extension": ".py",
   "mimetype": "text/x-python",
   "name": "python",
   "nbconvert_exporter": "python",
   "pygments_lexer": "ipython3",
   "version": "3.7.7"
  },
  "toc": {
   "base_numbering": 1,
   "nav_menu": {},
   "number_sections": true,
   "sideBar": true,
   "skip_h1_title": false,
   "title_cell": "Table of Contents",
   "title_sidebar": "Contents",
   "toc_cell": true,
   "toc_position": {},
   "toc_section_display": true,
   "toc_window_display": false
  }
 },
 "nbformat": 4,
 "nbformat_minor": 5
}
