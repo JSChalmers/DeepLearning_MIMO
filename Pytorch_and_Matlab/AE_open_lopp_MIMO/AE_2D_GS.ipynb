{
 "cells": [
  {
   "cell_type": "markdown",
   "id": "floral-yemen",
   "metadata": {
    "toc": true
   },
   "source": [
    "<h1>Table of Contents<span class=\"tocSkip\"></span></h1>\n",
    "<div class=\"toc\"><ul class=\"toc-item\"></ul></div>"
   ]
  },
  {
   "cell_type": "code",
   "execution_count": 1,
   "id": "brazilian-excitement",
   "metadata": {},
   "outputs": [
    {
     "name": "stdout",
     "output_type": "stream",
     "text": [
      "cuda\n"
     ]
    }
   ],
   "source": [
    "import numpy as np\n",
    "import torch \n",
    "import torch.nn.functional as F\n",
    "from torch import nn\n",
    "import scipy.io as io\n",
    "import scipy.special\n",
    "from scipy.stats import unitary_group\n",
    "import matplotlib.pyplot as plt\n",
    "\n",
    "from torch.optim import SGD, Adam\n",
    "from torch.utils import data\n",
    "import sys \n",
    "import time\n",
    "import timeit\n",
    "\n",
    "from tqdm import tqdm\n",
    "device = 'cuda' if torch.cuda.is_available() else 'cpu' \n",
    "\n",
    "print(device)\n",
    "\n"
   ]
  },
  {
   "cell_type": "code",
   "execution_count": 2,
   "id": "changing-boards",
   "metadata": {},
   "outputs": [],
   "source": [
    "class Encoder(nn.Module):\n",
    "    def __init__(self, dims):\n",
    "        super().__init__()\n",
    "        if len(dims)<2: raise ValueError(\"Inputs list has to be at least lenght:2\")\n",
    "            \n",
    "        self.layers = nn.ModuleList()\n",
    "        for i in range(len(dims)-1):\n",
    "            self.layers.append(nn.Linear(dims[i], dims[i+1]))\n",
    "                    \n",
    "    def forward(self,x):\n",
    "        for i in range(len(self.layers)-1):\n",
    "            x =F.relu(self.layers[i](x))   \n",
    "        x = self.layers[-1](x)\n",
    "        x = x/ torch.sqrt(2*torch.mean(x**2))\n",
    "        return x\n",
    "\n",
    "        \n",
    "class Decoder(nn.Module):\n",
    "    def __init__(self, dims):\n",
    "        super().__init__()\n",
    "        if len(dims)<2: raise ValueError(\"Inputs list has to be at least lenght:2\") \n",
    "        self.layers = nn.ModuleList()\n",
    "        for i in range(len(dims)-1):\n",
    "            self.layers.append(nn.Linear(dims[i], dims[i+1]))\n",
    "    def forward(self,x):\n",
    "        for i in range(len(self.layers)-1):\n",
    "            x =F.relu(self.layers[i](x))\n",
    "            \n",
    "        x =  F.log_softmax(self.layers[-1](x), dim=-1 )\n",
    "        return x\n",
    "\n",
    "    \n",
    "    \n",
    "def awgn(x, snr):\n",
    "    sigma = torch.tensor(np.sqrt(0.5/(10**(snr/10)))).to(device)\n",
    "    noise = sigma * torch.randn(x.shape).to(device)\n",
    "    x = x+noise \n",
    "    return x\n",
    "\n"
   ]
  },
  {
   "cell_type": "code",
   "execution_count": null,
   "id": "economic-macro",
   "metadata": {},
   "outputs": [],
   "source": []
  },
  {
   "cell_type": "code",
   "execution_count": 3,
   "id": "commercial-montgomery",
   "metadata": {},
   "outputs": [
    {
     "name": "stderr",
     "output_type": "stream",
     "text": [
      "epoch=10000.0: 100%|██████████| 10000/10000 [00:51<00:00, 192.33it/s]\n"
     ]
    }
   ],
   "source": [
    "M = 16\n",
    "encoder = Encoder([M,10,10,2]).to(device)\n",
    "decoder = Decoder([2,20,20,M]).to(device)\n",
    "\n",
    "criterion= nn.NLLLoss()\n",
    "para = list(encoder.parameters()) + list(decoder.parameters())\n",
    "opt = Adam(para, lr=0.001)\n",
    "\n",
    "start_time = time.time()\n",
    "loss_sv = np.array([])\n",
    "\n",
    "train_snr=12\n",
    "\n",
    "totEpoch = 10000\n",
    "\n",
    "\n",
    "t = tqdm(range(1,totEpoch+1), desc=\"loss\")\n",
    "for III in t:\n",
    "    t.set_description(\"epoch={:.1f}\".format(III))\n",
    "    \n",
    "    mess = torch.randint(0,M,size=(16000,)).to(device)\n",
    "    one_hot = F.one_hot(mess).float()\n",
    "    tx = encoder(one_hot)\n",
    "\n",
    "    rx = awgn(tx, train_snr)\n",
    "\n",
    "    y_pred = decoder(rx)\n",
    "    cross_entropy = criterion(y_pred, mess) \n",
    "                                        \n",
    "    opt.zero_grad()\n",
    "    cross_entropy.backward()\n",
    "    opt.step()\n",
    "\n",
    "    loss_sv = np.append(loss_sv,cross_entropy.item())\n",
    "         \n",
    "         \n",
    "  "
   ]
  },
  {
   "cell_type": "code",
   "execution_count": null,
   "id": "consistent-budapest",
   "metadata": {},
   "outputs": [],
   "source": []
  },
  {
   "cell_type": "code",
   "execution_count": null,
   "id": "abandoned-taxation",
   "metadata": {},
   "outputs": [],
   "source": []
  },
  {
   "cell_type": "code",
   "execution_count": 4,
   "id": "south-vienna",
   "metadata": {},
   "outputs": [
    {
     "ename": "NameError",
     "evalue": "name 'perturbation' is not defined",
     "output_type": "error",
     "traceback": [
      "\u001b[0;31m---------------------------------------------------------------------------\u001b[0m",
      "\u001b[0;31mNameError\u001b[0m                                 Traceback (most recent call last)",
      "\u001b[0;32m<ipython-input-4-6513d16a7595>\u001b[0m in \u001b[0;36m<module>\u001b[0;34m\u001b[0m\n\u001b[1;32m      2\u001b[0m \u001b[0mone_hot\u001b[0m \u001b[0;34m=\u001b[0m \u001b[0mF\u001b[0m\u001b[0;34m.\u001b[0m\u001b[0mone_hot\u001b[0m\u001b[0;34m(\u001b[0m\u001b[0mmess\u001b[0m\u001b[0;34m)\u001b[0m\u001b[0;34m.\u001b[0m\u001b[0mfloat\u001b[0m\u001b[0;34m(\u001b[0m\u001b[0;34m)\u001b[0m\u001b[0;34m\u001b[0m\u001b[0;34m\u001b[0m\u001b[0m\n\u001b[1;32m      3\u001b[0m \u001b[0mtx\u001b[0m \u001b[0;34m=\u001b[0m \u001b[0mencoder\u001b[0m\u001b[0;34m(\u001b[0m\u001b[0mone_hot\u001b[0m\u001b[0;34m)\u001b[0m\u001b[0;34m\u001b[0m\u001b[0;34m\u001b[0m\u001b[0m\n\u001b[0;32m----> 4\u001b[0;31m \u001b[0mtx_tilde\u001b[0m \u001b[0;34m=\u001b[0m \u001b[0mperturbation\u001b[0m\u001b[0;34m(\u001b[0m\u001b[0mtx\u001b[0m\u001b[0;34m,\u001b[0m  \u001b[0msigma_pi\u001b[0m\u001b[0;34m=\u001b[0m \u001b[0mexplore_var\u001b[0m\u001b[0;34m)\u001b[0m\u001b[0;34m\u001b[0m\u001b[0;34m\u001b[0m\u001b[0m\n\u001b[0m\u001b[1;32m      5\u001b[0m \u001b[0;34m\u001b[0m\u001b[0m\n\u001b[1;32m      6\u001b[0m \u001b[0;34m\u001b[0m\u001b[0m\n",
      "\u001b[0;31mNameError\u001b[0m: name 'perturbation' is not defined"
     ]
    }
   ],
   "source": [
    "# mess = torch.arange(M).to(device)\n",
    "# one_hot = F.one_hot(mess).float()\n",
    "# tx = encoder(one_hot)\n",
    "# tx_tilde = perturbation(tx,  sigma_pi= explore_var)\n",
    "\n",
    "\n",
    "# rx = awgn(tx, 16)\n",
    "\n",
    "\n",
    "# tx1 = tx.to('cpu').detach().numpy()\n",
    "\n",
    "# np.savez('GS_64QAM', gs_const=tx1)"
   ]
  },
  {
   "cell_type": "code",
   "execution_count": null,
   "id": "funny-principle",
   "metadata": {},
   "outputs": [],
   "source": []
  },
  {
   "cell_type": "code",
   "execution_count": 5,
   "id": "advisory-trinity",
   "metadata": {},
   "outputs": [
    {
     "data": {
      "image/png": "[encoded data removed]",
      "text/plain": [
       "<Figure size 432x288 with 1 Axes>"
      ]
     },
     "metadata": {
      "needs_background": "light"
     },
     "output_type": "display_data"
    }
   ],
   "source": [
    "\n",
    "\n",
    "SNR_dB = np.arange(0,22,2)\n",
    "SER = np.array([])\n",
    "\n",
    "for snr in SNR_dB:\n",
    "    num_mess = 6400\n",
    "    minErr = 1e3\n",
    "    minSym = 1e6\n",
    "    maxSym = minErr*1e4\n",
    "    totSym = 0\n",
    "    totErr = 0\n",
    "    while  totErr<minErr and totSym<maxSym or totSym< minSym:\n",
    "        mess = torch.randint(0,M,size=(num_mess,)).to(device)\n",
    "        one_hot = F.one_hot(mess).float()\n",
    "        tx = encoder(one_hot)\n",
    "        rx = awgn(tx, snr)\n",
    "        rx_constant = rx.clone().detach().requires_grad_(False) ### no gradients in the channel model\n",
    "        \n",
    "        y_pred = decoder(rx_constant)\n",
    "        \n",
    "        m_hat = torch.argmax(y_pred, -1)\n",
    "        \n",
    "        err = torch.sum(torch.not_equal(mess, m_hat)).to('cpu').detach().numpy()\n",
    "       \n",
    "        totErr += err\n",
    "        totSym += num_mess\n",
    "    SER = np.append(SER, totErr/totSym)\n",
    "        \n",
    "\n",
    "\n",
    "\n",
    "snr_lin = 10**(SNR_dB/10)\n",
    "\n",
    "k = np.sqrt(1/(2/3 * (M-1)))\n",
    "SER_theory = 2*(1-1/np.sqrt(M))* scipy.special.erfc(k* np.sqrt(snr_lin)) - (1-2/np.sqrt(M)+1/M)*(scipy.special.erfc(k* np.sqrt(snr_lin)))**2\n",
    "plt.semilogy(SNR_dB,SER_theory,label='Theory')\n",
    "plt.semilogy(SNR_dB,SER,'-*',label='M={}, GS'.format(M))\n",
    "plt.legend()\n",
    "plt.grid(True)\n",
    "\n"
   ]
  },
  {
   "cell_type": "code",
   "execution_count": null,
   "id": "departmental-affect",
   "metadata": {},
   "outputs": [],
   "source": []
  },
  {
   "cell_type": "code",
   "execution_count": null,
   "id": "regulation-silly",
   "metadata": {},
   "outputs": [],
   "source": []
  },
  {
   "cell_type": "code",
   "execution_count": null,
   "id": "pursuant-worst",
   "metadata": {},
   "outputs": [],
   "source": []
  }
 ],
 "metadata": {
  "kernelspec": {
   "display_name": "Python 3",
   "language": "python",
   "name": "python3"
  },
  "language_info": {
   "codemirror_mode": {
    "name": "ipython",
    "version": 3
   },
   "file_extension": ".py",
   "mimetype": "text/x-python",
   "name": "python",
   "nbconvert_exporter": "python",
   "pygments_lexer": "ipython3",
   "version": "3.7.7"
  },
  "toc": {
   "base_numbering": 1,
   "nav_menu": {},
   "number_sections": true,
   "sideBar": true,
   "skip_h1_title": false,
   "title_cell": "Table of Contents",
   "title_sidebar": "Contents",
   "toc_cell": true,
   "toc_position": {},
   "toc_section_display": true,
   "toc_window_display": false
  }
 },
 "nbformat": 4,
 "nbformat_minor": 5
}
