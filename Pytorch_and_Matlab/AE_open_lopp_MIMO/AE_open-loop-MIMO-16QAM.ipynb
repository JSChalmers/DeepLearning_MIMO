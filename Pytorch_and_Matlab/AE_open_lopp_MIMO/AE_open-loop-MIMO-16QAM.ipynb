{
 "cells": [
  {
   "cell_type": "markdown",
   "metadata": {
    "toc": true
   },
   "source": [
    "<h1>Table of Contents<span class=\"tocSkip\"></span></h1>\n",
    "<div class=\"toc\"><ul class=\"toc-item\"></ul></div>"
   ]
  },
  {
   "cell_type": "code",
   "execution_count": 1,
   "metadata": {},
   "outputs": [],
   "source": [
    "import numpy as np\n",
    "import torch \n",
    "import torch.nn.functional as F\n",
    "from torch import nn\n",
    "import scipy.io as io\n",
    "import matplotlib.pyplot as plt\n",
    "\n",
    "from keras.utils import to_categorical\n",
    "from torch.optim import SGD, Adam\n",
    "from torch.utils import data\n",
    "from tqdm import tqdm\n",
    "\n",
    "device = 'cuda' if torch.cuda.is_available() else 'cpu'"
   ]
  },
  {
   "cell_type": "code",
   "execution_count": 2,
   "metadata": {},
   "outputs": [],
   "source": [
    "train_snr = 18\n",
    "M=16**2\n",
    "NN_T = 64\n",
    "NN_R=512"
   ]
  },
  {
   "cell_type": "code",
   "execution_count": 3,
   "metadata": {},
   "outputs": [],
   "source": [
    "\n",
    "class Encoder(nn.Module):\n",
    "    def __init__(self):\n",
    "        super(Encoder, self).__init__()\n",
    "        self.fc1 = nn.Linear(M, NN_T)  # 6*6 from image dimension\n",
    "        self.fc2 = nn.Linear(NN_T, NN_T)\n",
    "        self.fc3 = nn.Linear(NN_T, NN_T)\n",
    "        self.fc4 = nn.Linear(NN_T, 8)\n",
    "        \n",
    "    def forward(self, in_message):\n",
    "        x = F.relu(self.fc1(in_message))\n",
    "        x = F.relu(self.fc2(x))\n",
    "        x = F.relu(self.fc3(x))\n",
    "        x = self.fc4(x)\n",
    "        transmitted = x / torch.sqrt(2*torch.mean(x**2))\n",
    "        return transmitted\n",
    "    \n",
    "class Decoder(nn.Module):\n",
    "    def __init__(self):\n",
    "        super(Decoder, self).__init__()\n",
    "        self.fc1 = nn.Linear(4+4, NN_R)\n",
    "        self.fc2 = nn.Linear(NN_R, NN_R)\n",
    "        self.fc3 = nn.Linear(NN_R, NN_R)\n",
    "        self.fc4 = nn.Linear(NN_R, M)\n",
    "    def forward(self, in_message, in_channel):\n",
    "        nn_input = torch.cat([in_message,in_channel],-1)\n",
    "        x = F.relu(self.fc1(nn_input))\n",
    "        x = F.relu(self.fc2(x))\n",
    "        x = F.relu(self.fc3(x))\n",
    "        decoded = F.log_softmax(self.fc4(x), dim=-1)\n",
    "        return decoded\n",
    "        "
   ]
  },
  {
   "cell_type": "code",
   "execution_count": 4,
   "metadata": {},
   "outputs": [
    {
     "data": {
      "text/plain": [
       "<All keys matched successfully>"
      ]
     },
     "execution_count": 4,
     "metadata": {},
     "output_type": "execute_result"
    }
   ],
   "source": [
    "encoder = Encoder().to(device)\n",
    "decoder = Decoder().to(device)\n",
    "\n",
    "\n",
    "criterion= nn.NLLLoss()\n",
    "opt = Adam(list(encoder.parameters())+list(decoder.parameters()), lr=0.001)\n",
    "\n",
    "Path = 'AE_open_loop_16QAM_model'\n",
    "\n",
    "checkpoint = torch.load(Path)\n",
    "encoder.load_state_dict(checkpoint['Encoder'])\n",
    "decoder.load_state_dict(checkpoint['Decoder'])"
   ]
  },
  {
   "cell_type": "code",
   "execution_count": 5,
   "metadata": {},
   "outputs": [],
   "source": [
    "# loss = np.array([])\n",
    "# gradient_steps = 100000\n",
    "\n",
    "# train_snr=18\n",
    "# t = tqdm(range(gradient_steps), desc=\"loss\")\n",
    "# for i in t:\n",
    "#     t.set_description(\"epoch={:}\".format(i))\n",
    "#     ch_real = torch.randn((25600*2, 1,2))/np.sqrt(2)\n",
    "#     ch_imag = torch.randn((25600*2, 1,2))/np.sqrt(2)\n",
    "#     csi_real = ch_real.to(device)\n",
    "#     csi_imag = ch_imag.to(device)\n",
    "\n",
    "#     messages = np.random.randint(0,M, csi_real.shape[0])\n",
    "\n",
    "#     train_data = torch.from_numpy(to_categorical(messages)).to(device)\n",
    "#     train_label = torch.from_numpy(messages).long().to(device)\n",
    "\n",
    "\n",
    "#     transmitted =encoder(train_data)\n",
    "#     tx_real = transmitted[:, np.arange(0,4)].view(-1,2,2)\n",
    "#     tx_imag = transmitted[:, np.arange(4,8)].view(-1,2,2)\n",
    "\n",
    "#     rx_real = torch.bmm(csi_real, tx_real) - torch.bmm(csi_imag, tx_imag)\n",
    "#     rx_imag = torch.bmm(csi_imag, tx_real) + torch.bmm(csi_real, tx_imag)\n",
    "\n",
    "#     rx = torch.cat([rx_real, rx_imag], axis=-2).view(-1,4)\n",
    "\n",
    "#     sigma = np.sqrt(0.5/(np.power(10, train_snr/10)))\n",
    "#     noise = (sigma * torch.randn(rx.shape)).to(device)\n",
    "#     rx = rx + noise\n",
    "\n",
    "#     csi = torch.cat([csi_real, csi_imag], axis=-2).view(-1,4)\n",
    "\n",
    "#     y_pred = decoder(rx, csi)\n",
    "#     cross_entropy = criterion(y_pred, train_label)\n",
    "\n",
    "#     opt.zero_grad()\n",
    "\n",
    "#     cross_entropy.backward()\n",
    "#     opt.step()\n",
    "\n",
    "\n",
    "#     l = cross_entropy.to('cpu').detach().numpy()\n",
    "#     loss = np.append(loss, l)\n",
    "\n",
    "\n",
    "\n",
    "\n",
    "\n"
   ]
  },
  {
   "cell_type": "code",
   "execution_count": 6,
   "metadata": {},
   "outputs": [],
   "source": [
    "# #### Save the trained model\n",
    "# torch.save({\n",
    "#             'Encoder': encoder.state_dict(),\n",
    "#             'Decoder': decoder.state_dict(),\n",
    "#             }, Path)"
   ]
  },
  {
   "cell_type": "code",
   "execution_count": 7,
   "metadata": {},
   "outputs": [
    {
     "name": "stderr",
     "output_type": "stream",
     "text": [
      "SNR=22.0dB: 100%|██████████| 12/12 [00:17<00:00,  1.49s/it]\n"
     ]
    }
   ],
   "source": [
    "\n",
    "\n",
    "\n",
    "SER = np.array([])\n",
    "SNR_arr = np.arange(0,23,2)\n",
    "t = tqdm(range(len(SNR_arr)), desc=\"loss\")\n",
    "for II in t: \n",
    "    test_snr = SNR_arr[II]\n",
    "    t.set_description(\"SNR={:.1f}dB\".format(test_snr))\n",
    "    totErr = 0\n",
    "    totSym = 0\n",
    "    minErr = 2e4\n",
    "    maxSym = minErr*1e4\n",
    "    minSym = minErr*1e2\n",
    "    while totErr< minErr and totSym<maxSym or totSym<minSym: \n",
    "        batch = 40\n",
    "        messages = np.arange(M)\n",
    "        messages = np.tile(messages, batch)\n",
    "        test_labels = to_categorical(messages)\n",
    "\n",
    "        csi_real = (torch.randn((M*batch, 1,2))/np.sqrt(2)).to(device)\n",
    "        csi_imag = (torch.randn((M*batch, 1,2))/np.sqrt(2)).to(device)\n",
    "\n",
    "\n",
    "        test_data = torch.from_numpy(test_labels).to(device)\n",
    "        test_label = torch.from_numpy(messages).to(device)\n",
    "\n",
    "        transmitted =encoder(test_data)\n",
    "        tx_real = transmitted[:, np.arange(0,4)].view(-1,2,2)\n",
    "        tx_imag = transmitted[:, np.arange(4,8)].view(-1,2,2)\n",
    "\n",
    "        rx_real = torch.bmm(csi_real, tx_real) - torch.bmm(csi_imag, tx_imag)\n",
    "        rx_imag = torch.bmm(csi_imag, tx_real) + torch.bmm(csi_real, tx_imag)\n",
    "\n",
    "        rx = torch.cat([rx_real, rx_imag], axis=-2).view(-1,4)\n",
    "\n",
    "\n",
    "        sigma = np.sqrt(0.5/(np.power(10, test_snr/10)))\n",
    "        noise = (sigma * torch.randn(rx.shape)).to(device)\n",
    "        rx = rx + noise\n",
    "\n",
    "        csi = torch.cat([csi_real, csi_imag], axis=-2).view(-1,4)\n",
    "\n",
    "        y_pred = decoder(rx, csi)\n",
    "\n",
    "        classification = torch.argmax(y_pred, axis=-1).to('cpu').detach().numpy()\n",
    "\n",
    "        correct = np.equal(classification , messages)\n",
    "\n",
    "        \n",
    "        totSym = totSym + correct.shape[0]\n",
    "        totErr = totErr + correct.shape[0] - np.sum(correct)\n",
    "    \n",
    "\n",
    "    SER = np.append(SER ,totErr/totSym)\n",
    "\n",
    "\n",
    "\n",
    "\n"
   ]
  },
  {
   "cell_type": "code",
   "execution_count": 8,
   "metadata": {},
   "outputs": [
    {
     "data": {
      "text/plain": [
       "<matplotlib.legend.Legend at 0x7f27f41b78d0>"
      ]
     },
     "execution_count": 8,
     "metadata": {},
     "output_type": "execute_result"
    },
    {
     "data": {
      "image/png": "[encoded data removed]",
      "text/plain": [
       "<Figure size 864x648 with 1 Axes>"
      ]
     },
     "metadata": {
      "needs_background": "light"
     },
     "output_type": "display_data"
    }
   ],
   "source": [
    "\n",
    "baseline_2dGS = np.array([0.8582738919, 0.77518119729, 0.6638753775, 0.5241933032, 0.3764218117,\\\n",
    " 0.2427, 0.1367,  0.07344675006,0.03492563936, 0.0158441070,0.0069469963, 0.0029697814])\n",
    "\n",
    "baseline_4dGS = np.array([0.8525, 0.7667, 0.6476, 0.5039, 0.3517,\\\n",
    " 0.2212, 0.1245,  0.06367,0.02986, 0.01373,0.005634, 0.002427])\n",
    "\n",
    "baseline_16QAM = np.array([0.863982915109450,0.789824218750000,0.683372881355932,0.553873626373626,\\\n",
    "0.394372549019608, 0.258779977466602, 0.153877394636015, 0.082014608979925,\\\n",
    "0.039804998762683, 0.018117047197906, 0.008057689702067, 0.003462703794546])\n",
    "\n",
    "baseline_QPSK = np.array( [3.552e-1, 2.4243e-01,1.505e-01,8.094e-02,4.04150e-02,\\\n",
    "                    1.9156e-02,8.646e-03,3.6616e-03, 1.5502e-03,\\\n",
    "                    6.33910e-04, 2.53000e-04 ,1.080e-04])\n",
    "plt.figure(figsize=(12,9))\n",
    "# plt.semilogy(np.arange(0,23,2), baseline_QPSK,'-*', label='Alamouti w/ QPSK')\n",
    "\n",
    "\n",
    "plt.semilogy(np.arange(0,24,2), baseline_16QAM, '-*', label = 'alamouti /w 16QAM')\n",
    "plt.semilogy(np.arange(0,24,2), baseline_2dGS, '->', label = 'alamouti /w 2d-GS ')\n",
    "plt.semilogy(np.arange(0,24,2), baseline_4dGS, '->', label = 'alamouti /w 4D-GS ')\n",
    "plt.semilogy(np.arange(0,23,2), SER, '-<', label = 'AE')\n",
    "                           \n",
    "# , SNR_array, SER, '-o'\n",
    "plt.grid()\n",
    "plt.legend()"
   ]
  },
  {
   "cell_type": "code",
   "execution_count": null,
   "metadata": {},
   "outputs": [],
   "source": []
  },
  {
   "cell_type": "code",
   "execution_count": null,
   "metadata": {},
   "outputs": [],
   "source": []
  },
  {
   "cell_type": "code",
   "execution_count": null,
   "metadata": {},
   "outputs": [],
   "source": []
  },
  {
   "cell_type": "code",
   "execution_count": null,
   "metadata": {},
   "outputs": [],
   "source": []
  },
  {
   "cell_type": "code",
   "execution_count": null,
   "metadata": {},
   "outputs": [],
   "source": []
  }
 ],
 "metadata": {
  "kernelspec": {
   "display_name": "Python 3",
   "language": "python",
   "name": "python3"
  },
  "language_info": {
   "codemirror_mode": {
    "name": "ipython",
    "version": 3
   },
   "file_extension": ".py",
   "mimetype": "text/x-python",
   "name": "python",
   "nbconvert_exporter": "python",
   "pygments_lexer": "ipython3",
   "version": "3.7.7"
  },
  "toc": {
   "base_numbering": 1,
   "nav_menu": {},
   "number_sections": true,
   "sideBar": true,
   "skip_h1_title": false,
   "title_cell": "Table of Contents",
   "title_sidebar": "Contents",
   "toc_cell": true,
   "toc_position": {},
   "toc_section_display": true,
   "toc_window_display": false
  }
 },
 "nbformat": 4,
 "nbformat_minor": 2
}
