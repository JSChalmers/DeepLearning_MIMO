{
 "cells": [
  {
   "cell_type": "markdown",
   "metadata": {},
   "source": [
    "# MIMO Broadcast Channel"
   ]
  },
  {
   "cell_type": "code",
   "execution_count": 1,
   "metadata": {},
   "outputs": [],
   "source": [
    "import numpy as np\n",
    "from numpy import sqrt, pi\n",
    "import scipy as sp\n",
    "from scipy import special\n",
    "import tensorflow as tf\n",
    "import time\n",
    "import datetime\n",
    "from keras.layers.normalization import BatchNormalization\n",
    "import sys\n",
    "import matplotlib.pyplot as plt\n",
    "from tqdm import tqdm\n",
    "from scipy.stats import unitary_group\n",
    "from scipy.stats import ortho_group"
   ]
  },
  {
   "cell_type": "code",
   "execution_count": 2,
   "metadata": {},
   "outputs": [
    {
     "name": "stdout",
     "output_type": "stream",
     "text": [
      "2.2.0\n",
      "Num GPUs Available:  1\n"
     ]
    }
   ],
   "source": [
    "print(tf.__version__)\n",
    "print(\"Num GPUs Available: \", len(tf.config.experimental.list_physical_devices('GPU')))"
   ]
  },
  {
   "cell_type": "code",
   "execution_count": 9,
   "metadata": {},
   "outputs": [],
   "source": [
    "# (n,k) = 2^k messages over n complex-valued channel uses\n",
    "k = 2\n",
    "n = 1 # complex-valued dimensions\n",
    "R = k/n # bits / 2 dims\n",
    "\n",
    "M = 2**k # constellation size\n",
    "N = 2*n # real-valued dimensions\n",
    "\n",
    "Tx = 2 # number of transmit antennas\n",
    "Rx = 2 # number of receivers/users\n",
    "\n",
    "Mt = M**Rx # total message set of the transmitter\n",
    "\n",
    "Tx_NN = 512 # neurons in hidden layer at transmitter\n",
    "Rx_NN = 256 # neurons in hidden layer at receiver\n",
    "batch_norm = False\n",
    "\n",
    "enc_dims = [M**Rx+2*Tx*Rx, Tx_NN,Tx_NN,Tx_NN, N*Tx]\n",
    "dec_dims = [N+2*Tx, Rx_NN,Rx_NN,Rx_NN, M]\n",
    "\n",
    "B = 10240 # minibatch size; should be a multiple of Mt\n",
    "lr = 0.001 # learning rate\n",
    "\n",
    "EsNo_dB_set = np.array([12,15,18,20])"
   ]
  },
  {
   "cell_type": "code",
   "execution_count": 4,
   "metadata": {},
   "outputs": [],
   "source": [
    "def normalization(x): # power per tx antenna is 1\n",
    "    \"\"\" x has shape [B, Tx*N]\n",
    "    \"\"\"\n",
    "    Bt = x.shape[0] # assumed to be a multiple of Mt\n",
    "    x = tf.reshape(x, [Bt//Mt, Mt, Tx*N])\n",
    "    x = x / tf.sqrt(tf.reduce_mean(tf.reduce_sum(tf.square(x), axis=2, keepdims=True), axis=1, keepdims=True)/(Tx*n))\n",
    "    return tf.reshape(x, [Bt, Tx*N])\n",
    "\n",
    "def mimo_channel(xr, xi, Hr, Hi, sigma2):\n",
    "    \"\"\" xr,xi have shape [B, Tx, n]\n",
    "        Hr,Hi have shape [B, Rx, Tx]\n",
    "        yr,yi have shape [B, Rx, n]\n",
    "        y = H*x + n\n",
    "    \"\"\"\n",
    "    yr = tf.matmul(Hr,xr) - tf.matmul(Hi,xi)\n",
    "    yi = tf.matmul(Hr,xi) + tf.matmul(Hi,xr)\n",
    "    yr = yr + tf.sqrt(sigma2)*tf.random.normal(tf.shape(yr))\n",
    "    yi = yi + tf.sqrt(sigma2)*tf.random.normal(tf.shape(yi))\n",
    "    return yr, yi\n",
    "\n",
    "class Encoder(tf.Module):\n",
    "    def __init__(self, dims, batch_norm=False):\n",
    "        super().__init__()\n",
    "        if len(dims) < 2: raise ValueError(\"Input list has to be at least length 2\")\n",
    "        \n",
    "        self.layers = []\n",
    "        for i in range(len(dims)-2):\n",
    "            if batch_norm == True:\n",
    "                self.layers.append(tf.keras.layers.BatchNormalization())\n",
    "            self.layers.append(tf.keras.layers.Dense(dims[i+1], activation=\"relu\"))\n",
    "        if batch_norm == True:\n",
    "            self.layers.append(tf.keras.layers.BatchNormalization())\n",
    "        self.layers.append(tf.keras.layers.Dense(dims[-1], activation=None))\n",
    "        \n",
    "    def __call__(self, x):\n",
    "        for layer in self.layers:\n",
    "            x = layer(x)\n",
    "        return normalization(x)\n",
    "        \n",
    "class Decoder(tf.Module):\n",
    "    def __init__(self, dims, batch_norm=False):\n",
    "        super().__init__()\n",
    "        if len(dims) < 2: raise ValueError(\"Input list has to be at least length 2\")\n",
    "        \n",
    "        self.layers = []\n",
    "        for i in range(len(dims)-2):\n",
    "            if batch_norm == True:\n",
    "                self.layers.append(tf.keras.layers.BatchNormalization())\n",
    "            self.layers.append(tf.keras.layers.Dense(dims[i+1], activation=\"relu\"))\n",
    "        if batch_norm == True:\n",
    "            self.layers.append(tf.keras.layers.BatchNormalization())\n",
    "        self.layers.append(tf.keras.layers.Dense(dims[-1], activation=\"softmax\"))\n",
    "        \n",
    "    def __call__(self, x, training):\n",
    "        for layer in self.layers:\n",
    "            if \"batch_normalization\" in layer.name:\n",
    "                x = layer(x, training=training)\n",
    "            else:\n",
    "                x = layer(x)\n",
    "        return x\n",
    "\n",
    "class AE(tf.Module):\n",
    "    \"\"\" AE: communications autoencoder\n",
    "    \n",
    "    Args:\n",
    "        enc_dims: dimensions (neurons per layer) for encoder\n",
    "        dec_dims: dimensions (neurons per layer) for decoder\n",
    "    \n",
    "    \"\"\"\n",
    "    def __init__(self, enc_dims, dec_dims, batch_norm=False):\n",
    "        super().__init__()\n",
    "        self.Encoder = Encoder(enc_dims, batch_norm)\n",
    "        self.Decoder1 = Decoder(dec_dims, batch_norm)\n",
    "        #self.Decoder2 = Decoder(dec_dims, batch_norm)\n",
    "        self.Decoder2 = self.Decoder1\n",
    "    \n",
    "    def __call__(self, ohv, Hr, Hi, sigma2, training=False):\n",
    "        Hr = tf.repeat(Hr, Mt, axis=0)\n",
    "        Hi = tf.repeat(Hi, Mt, axis=0)\n",
    "        HrR = tf.reshape(Hr, [-1, Tx*Rx])\n",
    "        HiR = tf.reshape(Hi, [-1, Tx*Rx])\n",
    "        \n",
    "        x = self.Encoder(tf.concat([ohv, HrR, HiR], axis=1))\n",
    "        \n",
    "        xr = tf.reshape(x[:,0:N*Tx//2], [-1, Tx, N//2])\n",
    "        xi = tf.reshape(x[:,N*Tx//2:N*Tx], [-1, Tx, N//2])\n",
    "    \n",
    "        yr, yi = mimo_channel(xr, xi, Hr, Hi, sigma2)\n",
    "        \n",
    "        # local observation and CSI\n",
    "        y1 = tf.concat([yr[:,0,:], yi[:,0,:]], axis=1)\n",
    "        y2 = tf.concat([yr[:,1,:], yi[:,1,:]], axis=1)\n",
    "        \n",
    "        #yr = tf.reshape(yr, [-1, Rx*N//2])\n",
    "        #yi = tf.reshape(yi, [-1, Rx*N//2])\n",
    "        #y = tf.concat([yr, yi], axis=1)\n",
    "        \n",
    "        qxy1 = self.Decoder1(tf.concat([y1, Hr[:,0,:], Hi[:,0,:]], axis=1), training)\n",
    "        qxy2 = self.Decoder2(tf.concat([y2, Hr[:,1,:], Hi[:,1,:]], axis=1), training)\n",
    "        \n",
    "        return qxy1, qxy2"
   ]
  },
  {
   "cell_type": "markdown",
   "metadata": {},
   "source": [
    "# Training Routine (Eager)"
   ]
  },
  {
   "cell_type": "code",
   "execution_count": 13,
   "metadata": {},
   "outputs": [],
   "source": [
    "@tf.function # debug in eager mode, then compile into a static graph (faster)\n",
    "def train_step_eager(sigma2_set):\n",
    "    indices1 = tf.tile(tf.repeat(tf.range(M), M), [B//Mt])\n",
    "    indices2 = tf.tile(tf.range(M), [B//M])\n",
    "    ohv1 = tf.one_hot(indices1, depth=M)\n",
    "    ohv2 = tf.one_hot(indices2, depth=M)\n",
    "    \n",
    "    tx_indices = M*indices1+indices2\n",
    "    tx_ohv = tf.one_hot(tx_indices, depth=Mt)\n",
    "    \n",
    "    Hr = tf.random.normal([B//Mt, Rx, Tx])/np.sqrt(2)\n",
    "    Hi = tf.random.normal([B//Mt, Rx, Tx])/np.sqrt(2)\n",
    "    \n",
    "    if True:\n",
    "        sigma2 = sigma2_set\n",
    "    else: # generate random sigma2 \n",
    "        sigma_ind = tf.random.uniform(shape=(B,1,1), minval=0, maxval=len(sigma2_set), dtype=tf.dtypes.int32)\n",
    "        sigma2 = tf.gather(sigma2_set, sigma_ind)\n",
    "    \n",
    "    with tf.GradientTape() as tape:\n",
    "        qxy1, qxy2 = model(tx_ohv, Hr, Hi, sigma2, training=True)\n",
    "        epsilon = 1e-6 # to avoid log(0) = -Inf\n",
    "        L1 = -M*tf.reduce_mean(ohv1*tf.math.log(qxy1+epsilon)/np.log(2))\n",
    "        L2 = -M*tf.reduce_mean(ohv2*tf.math.log(qxy2+epsilon)/np.log(2))\n",
    "        L = (L1+L2)/2\n",
    "        \n",
    "    grads = tape.gradient(L, model.trainable_variables)\n",
    "    optimizer.apply_gradients(zip(grads, model.trainable_variables))    \n",
    "    return L"
   ]
  },
  {
   "cell_type": "code",
   "execution_count": 14,
   "metadata": {},
   "outputs": [
    {
     "name": "stdout",
     "output_type": "stream",
     "text": [
      "EsNo = 12.0 dB\n"
     ]
    },
    {
     "name": "stderr",
     "output_type": "stream",
     "text": [
      "loss=0.09043:  80%|████████  | 80490/100000 [12:33<03:07, 104.19it/s]IOPub message rate exceeded.\n",
      "The notebook server will temporarily stop sending output\n",
      "to the client in order to avoid crashing it.\n",
      "To change this limit, set the config variable\n",
      "`--NotebookApp.iopub_msg_rate_limit`.\n",
      "\n",
      "Current values:\n",
      "NotebookApp.iopub_msg_rate_limit=1000.0 (msgs/sec)\n",
      "NotebookApp.rate_limit_window=3.0 (secs)\n",
      "\n",
      "loss=0.02056:  35%|███▍      | 34943/100000 [05:26<10:04, 107.68it/s]IOPub message rate exceeded.\n",
      "The notebook server will temporarily stop sending output\n",
      "to the client in order to avoid crashing it.\n",
      "To change this limit, set the config variable\n",
      "`--NotebookApp.iopub_msg_rate_limit`.\n",
      "\n",
      "Current values:\n",
      "NotebookApp.iopub_msg_rate_limit=1000.0 (msgs/sec)\n",
      "NotebookApp.rate_limit_window=3.0 (secs)\n",
      "\n",
      "loss=0.01848:  87%|████████▋ | 86598/100000 [13:27<02:02, 109.12it/s]IOPub message rate exceeded.\n",
      "The notebook server will temporarily stop sending output\n",
      "to the client in order to avoid crashing it.\n",
      "To change this limit, set the config variable\n",
      "`--NotebookApp.iopub_msg_rate_limit`.\n",
      "\n",
      "Current values:\n",
      "NotebookApp.iopub_msg_rate_limit=1000.0 (msgs/sec)\n",
      "NotebookApp.rate_limit_window=3.0 (secs)\n",
      "\n"
     ]
    }
   ],
   "source": [
    "iterations = 100000\n",
    "print_interval = 1000\n",
    "\n",
    "log_dir = \"logs/3_mimo_broadcast/\" + datetime.datetime.now().strftime(\"%Y%m%d-%H%M%S\")\n",
    "train_summary_writer = tf.summary.create_file_writer(log_dir)\n",
    "\n",
    "model = AE(enc_dims, dec_dims, batch_norm)\n",
    "optimizer = tf.keras.optimizers.Adam(learning_rate=lr)\n",
    "\n",
    "loss_sv = []\n",
    "total_iter = 0 \n",
    "for EsNo_dB_set_this in EsNo_dB_set:\n",
    "    print(\"EsNo = {:.1f} dB\".format(EsNo_dB_set_this), flush=True)\n",
    "\n",
    "    EsNo_r_set = 10**(EsNo_dB_set_this/10)\n",
    "    sigma2_set = 1/(2*EsNo_r_set) # noise power per real dimension\n",
    "    sigma2_set = tf.convert_to_tensor(sigma2_set, dtype=tf.float32)\n",
    "\n",
    "    t = tqdm(range(1, iterations+1), desc=\"loss\")\n",
    "    for i in t:\n",
    "        L = train_step_eager(sigma2_set)\n",
    "        total_iter = total_iter + 1\n",
    "\n",
    "        if i%print_interval==0 or i==1:\n",
    "            with train_summary_writer.as_default():\n",
    "                tf.summary.scalar('loss', L, step=total_iter)\n",
    "\n",
    "            t.set_description(\"loss={:.5f}\".format(L))\n",
    "            t.refresh() # to show immediately the update\n",
    "            loss_sv.append(L)"
   ]
  },
  {
   "cell_type": "code",
   "execution_count": 15,
   "metadata": {},
   "outputs": [
    {
     "data": {
      "image/png": "[encoded data removed]",
      "text/plain": [
       "<Figure size 432x288 with 1 Axes>"
      ]
     },
     "metadata": {
      "needs_background": "light"
     },
     "output_type": "display_data"
    }
   ],
   "source": [
    "plt.semilogy(loss_sv)\n",
    "plt.grid()"
   ]
  },
  {
   "cell_type": "markdown",
   "metadata": {},
   "source": [
    "# Symbol/Block Error Rate"
   ]
  },
  {
   "cell_type": "code",
   "execution_count": 16,
   "metadata": {},
   "outputs": [],
   "source": [
    "@tf.function\n",
    "def get_SER(L, sigma2):\n",
    "    m1 = tf.tile(tf.repeat(tf.range(M), M), [L//Mt])\n",
    "    m2 = tf.tile(tf.range(M), [L//M])\n",
    "    ohv1 = tf.one_hot(m1, depth=M)\n",
    "    ohv2 = tf.one_hot(m2, depth=M)\n",
    "    \n",
    "    tx_m = M*m1+m2\n",
    "    tx_ohv = tf.one_hot(tx_m, depth=Mt)\n",
    "    \n",
    "    #s = tf.tile(tf.range(M, dtype=tf.dtypes.int64), [L//M])\n",
    "    #ohv = tf.one_hot(s, depth=M)\n",
    "    \n",
    "    Hr = tf.random.normal([L//Mt, Rx, Tx])/np.sqrt(2) \n",
    "    Hi = tf.random.normal([L//Mt, Rx, Tx])/np.sqrt(2) \n",
    "    \n",
    "    qxy1, qxy2 = model(tx_ohv, Hr, Hi, sigma2)\n",
    "    mhat1 = tf.math.argmax(qxy1, axis=1, output_type=tf.dtypes.int32)\n",
    "    mhat2 = tf.math.argmax(qxy2, axis=1, output_type=tf.dtypes.int32)\n",
    "    \n",
    "    err_vec1 = tf.cast(m1 != mhat1, dtype=tf.dtypes.int32)\n",
    "    err_vec2 = tf.cast(m2 != mhat2, dtype=tf.dtypes.int32)\n",
    "    \n",
    "    return tf.reduce_sum(err_vec1), tf.reduce_sum(err_vec2)"
   ]
  },
  {
   "cell_type": "code",
   "execution_count": 17,
   "metadata": {},
   "outputs": [
    {
     "name": "stderr",
     "output_type": "stream",
     "text": [
      "SNR=34.0: 100%|██████████| 35/35 [00:24<00:00,  1.45it/s]"
     ]
    },
    {
     "name": "stdout",
     "output_type": "stream",
     "text": [
      "[[9895. 9354. 8641. 7766. 6889. 6151. 5039. 6485. 5166. 5437. 5043. 5026.\n",
      "  5104. 5003. 5164. 4957. 5082. 5132. 4983. 4969. 4959. 5077. 5055. 5001.\n",
      "  5150. 5051. 5051. 5039. 5053. 5012. 5038. 5116. 4997. 5115. 5123.]\n",
      " [9953. 9375. 8723. 7892. 6932. 6095. 5043. 6626. 5302. 5356. 5091. 5123.\n",
      "  5124. 5112. 5254. 5146. 5138. 5047. 5060. 5060. 5043. 4942. 5020. 5024.\n",
      "  4869. 4953. 4962. 4985. 4976. 5013. 4974. 4886. 5016. 4895. 4896.]]\n",
      "[[0.4831543  0.45673828 0.42192383 0.37919922 0.33637695 0.3003418\n",
      "  0.24604492 0.21110026 0.16816406 0.13273926 0.09849609 0.07011719\n",
      "  0.04984375 0.03257161 0.02292259 0.01512756 0.01033936 0.00759351\n",
      "  0.00559335 0.00411232 0.00343459 0.00291648 0.00239637 0.00208709\n",
      "  0.00194181 0.00174916 0.00159117 0.00153299 0.00147301 0.0014187\n",
      "  0.00134058 0.00132522 0.00127412 0.00123032 0.00127952]\n",
      " [0.48598633 0.45776367 0.42592773 0.38535156 0.33847656 0.29760742\n",
      "  0.24624023 0.2156901  0.17259115 0.13076172 0.09943359 0.07147042\n",
      "  0.05003906 0.03328125 0.02332209 0.01570435 0.01045329 0.00746774\n",
      "  0.00567978 0.00418763 0.00349277 0.00283892 0.00237978 0.00209669\n",
      "  0.00183586 0.00171522 0.00156313 0.00151656 0.00145056 0.00141899\n",
      "  0.00132355 0.00126565 0.00127897 0.00117741 0.00122283]]\n"
     ]
    },
    {
     "name": "stderr",
     "output_type": "stream",
     "text": [
      "\n"
     ]
    }
   ],
   "source": [
    "minErr = 10000 # 50k = 8h\n",
    "maxSym = minErr/1e-5\n",
    "L = B # blocks \n",
    "\n",
    "SNR_dB = np.arange(0, 35, 1)\n",
    "SNR_r = 10**(SNR_dB/10)\n",
    "\n",
    "SNRlen = len(SNR_dB)\n",
    "SymErrs = np.zeros([2, SNRlen])\n",
    "Syms = np.zeros([SNRlen])\n",
    "\n",
    "t = tqdm(range(SNRlen), desc=\"SNR=\")\n",
    "for II in t:\n",
    "    #print(\"SNR = {} dB\".format(SNR_dB[II]))\n",
    "    t.set_description(\"SNR={:.1f}\".format(SNR_dB[II]))\n",
    "    t.refresh() # to show immediately the update\n",
    "    totErr1, totErr2, totSym = 0, 0, 0\n",
    "    sigma2 = tf.convert_to_tensor(1/(2*SNR_r[II]), dtype=tf.float32)\n",
    "\n",
    "    while ((totErr1+totErr2 < minErr) and (totSym <= maxSym)):\n",
    "        thisErr1, thisErr2 = get_SER(L,sigma2)\n",
    "        totErr1 = totErr1 + np.asarray([thisErr1.numpy()])\n",
    "        totErr2 = totErr2 + np.asarray([thisErr2.numpy()])\n",
    "        totSym = totSym + L\n",
    "    \n",
    "    #print(totErr)\n",
    "    SymErrs[0,II] = totErr1\n",
    "    SymErrs[1,II] = totErr2\n",
    "    Syms[II] = totSym\n",
    "\n",
    "print(SymErrs)\n",
    "SER = SymErrs/Syms\n",
    "print(SER)"
   ]
  },
  {
   "cell_type": "code",
   "execution_count": 18,
   "metadata": {},
   "outputs": [],
   "source": [
    "from io import StringIO\n",
    "\n",
    "tmpstr = StringIO(\"\"\"\n",
    "-3.010299956639812 0.489701850000000\n",
    "0.989700043360188 0.354083335000000\n",
    "4.989700043360187 0.209233895000000\n",
    "8.989700043360187 0.102096600000000\n",
    "12.989700043360187 0.043928530000000\n",
    "16.989700043360187 0.017997210000000\n",
    "20.989700043360187 0.007111665000000\n",
    "24.989700043360187 0.002877250000000\n",
    "28.989700043360187 0.001153770000000\n",
    "32.989700043360187 0.000422052602069\n",
    "36.989700043360187 0.000183830039609\n",
    "\"\"\")\n",
    "\n",
    "ZF = np.genfromtxt(tmpstr, delimiter=' ')\n",
    "\n",
    "tmpstr = StringIO(\"\"\"\n",
    "-3.010299956639812 0.413666870000000\n",
    "0.989700043360188 0.275328650000000\n",
    "4.989700043360187 0.138032940000000\n",
    "8.989700043360187 0.042139330000000\n",
    "12.989700043360187 0.008555370000000\n",
    "16.989700043360187 0.001498875000000\n",
    "20.989700043360187 0.000202392201599\n",
    "24.989700043360187 0.000031515591412\n",
    "\"\"\")\n",
    "\n",
    "VP = np.genfromtxt(tmpstr, delimiter=' ')"
   ]
  },
  {
   "cell_type": "code",
   "execution_count": 19,
   "metadata": {},
   "outputs": [
    {
     "data": {
      "image/png": "[encoded data removed]",
      "text/plain": [
       "<Figure size 640x480 with 1 Axes>"
      ]
     },
     "metadata": {},
     "output_type": "display_data"
    }
   ],
   "source": [
    "plt.figure(num=None, figsize=(8, 6), dpi=80, facecolor='w', edgecolor='k')\n",
    "\n",
    "#plt.semilogy(SNR_dB-10*np.log10(2), SER, label='Autoencoder')\n",
    "plt.semilogy(SNR_dB, SER[0,:], label='AE (user 1)')\n",
    "plt.semilogy(SNR_dB, SER[1,:], label='AE (user 2)')\n",
    "\n",
    "plt.semilogy(ZF[:,0], ZF[:,1], marker='s', linestyle='solid', label='zero-forcing precoding')\n",
    "plt.semilogy(VP[:,0], VP[:,1], marker='s', linestyle='solid', label='vector-perturbaton precoding')\n",
    "plt.xlabel('SNR=(P/Nt)/N0 [dB]')\n",
    "plt.ylabel('block error rate (per user)')\n",
    "plt.ylim(1e-4, 1)\n",
    "plt.xlim(0, 35)\n",
    "plt.legend()\n",
    "plt.grid()\n",
    "plt.show()"
   ]
  }
 ],
 "metadata": {
  "kernelspec": {
   "display_name": "Python 3",
   "language": "python",
   "name": "python3"
  },
  "language_info": {
   "codemirror_mode": {
    "name": "ipython",
    "version": 3
   },
   "file_extension": ".py",
   "mimetype": "text/x-python",
   "name": "python",
   "nbconvert_exporter": "python",
   "pygments_lexer": "ipython3",
   "version": "3.7.3"
  }
 },
 "nbformat": 4,
 "nbformat_minor": 2
}
