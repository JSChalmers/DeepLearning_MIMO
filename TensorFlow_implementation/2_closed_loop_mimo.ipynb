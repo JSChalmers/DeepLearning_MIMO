{
 "cells": [
  {
   "cell_type": "markdown",
   "metadata": {},
   "source": [
    "# Closed-Loop MIMO"
   ]
  },
  {
   "cell_type": "code",
   "execution_count": 1,
   "metadata": {},
   "outputs": [],
   "source": [
    "import numpy as np\n",
    "from numpy import sqrt, pi\n",
    "import scipy as sp\n",
    "from scipy import special\n",
    "import tensorflow as tf\n",
    "import time\n",
    "import datetime\n",
    "from keras.layers.normalization import BatchNormalization\n",
    "import sys\n",
    "import matplotlib.pyplot as plt\n",
    "from tqdm import tqdm\n",
    "from scipy.stats import unitary_group\n",
    "from scipy.stats import ortho_group"
   ]
  },
  {
   "cell_type": "code",
   "execution_count": 2,
   "metadata": {},
   "outputs": [
    {
     "name": "stdout",
     "output_type": "stream",
     "text": [
      "2.2.0\n",
      "Num GPUs Available:  1\n"
     ]
    }
   ],
   "source": [
    "# https://www.tensorflow.org/guide/gpu#limiting_gpu_memory_growth\n",
    "print(tf.__version__)\n",
    "gpus = tf.config.experimental.list_physical_devices('GPU')\n",
    "print(\"Num GPUs Available: \", len(gpus))\n",
    "if gpus:\n",
    "    try:\n",
    "        for gpu in gpus:\n",
    "            tf.config.experimental.set_memory_growth(gpu, True)\n",
    "    except RuntimeError as e:\n",
    "        print(e)"
   ]
  },
  {
   "cell_type": "code",
   "execution_count": 3,
   "metadata": {},
   "outputs": [],
   "source": [
    "# (n,k) = 2^k messages over n complex-valued channel uses\n",
    "k = 4\n",
    "n = 1 # complex-valued dimensions\n",
    "R = k/n # bits / 2 dims\n",
    "\n",
    "M = 2**k # constellation size\n",
    "N = 2*n # real-valued dimensions\n",
    "\n",
    "Tx = 2 # number of transmit antennas\n",
    "Rx = 2 # number of receive antennas\n",
    "\n",
    "Tx_NN = 1024 # neurons in hidden layer at transmitter\n",
    "Rx_NN = 1024 # neurons in hidden layer at receiver\n",
    "batch_norm = False\n",
    "\n",
    "enc_dims = [M+2*Tx*Rx, Tx_NN, Tx_NN, Tx_NN, N*Tx]\n",
    "dec_dims = [N*Rx+2*Tx*Rx, Rx_NN, Rx_NN, Rx_NN, M]\n",
    "\n",
    "B = 10240 # minibatch size\n",
    "lr = 0.001 # learning rate\n",
    "\n",
    "EsNo_dB_r = [5, 10, 15, 12] "
   ]
  },
  {
   "cell_type": "code",
   "execution_count": 4,
   "metadata": {},
   "outputs": [],
   "source": [
    "def normalization(x): # power per tx antenna is 1\n",
    "    \"\"\" x has shape [B, Tx*N]\n",
    "    \"\"\"\n",
    "    Bt = x.shape[0] # assumed to be a multiple of M\n",
    "    x = tf.reshape(x, [Bt//M, M, Tx*N])\n",
    "    x = x / tf.sqrt(tf.reduce_mean(tf.reduce_sum(tf.square(x), axis=2, keepdims=True), axis=1, keepdims=True)/(Tx*n))\n",
    "    return tf.reshape(x, [Bt, Tx*N])\n",
    "\n",
    "def normalization_old(x): # power per tx antenna is 1\n",
    "    \"\"\" x has shape [B, Tx*N]\n",
    "    \"\"\"\n",
    "    return x / tf.sqrt(tf.reduce_mean(tf.reduce_sum(tf.square(x), axis=1, keepdims=True), axis=0, keepdims=True)/(Tx*n))\n",
    "    \n",
    "def mimo_channel(xr, xi, Hr, Hi, sigma2):\n",
    "    \"\"\" xr,xi has shape [B, Tx*N]\n",
    "        Hr,Hi have shape [B, Rx, Tx]\n",
    "        y = H*x + n\n",
    "    \"\"\"\n",
    "    yr = tf.matmul(Hr,xr) - tf.matmul(Hi,xi)\n",
    "    yi = tf.matmul(Hr,xi) + tf.matmul(Hi,xr)\n",
    "    yr = yr + tf.random.normal(tf.shape(yr), mean=0.0, stddev=np.sqrt(sigma2))\n",
    "    yi = yi + tf.random.normal(tf.shape(yi), mean=0.0, stddev=np.sqrt(sigma2))\n",
    "    return yr, yi\n",
    "\n",
    "class Encoder(tf.Module):\n",
    "    def __init__(self, dims, batch_norm=False):\n",
    "        super().__init__()\n",
    "        if len(dims) < 2: raise ValueError(\"Input list has to be at least length 2\")\n",
    "        \n",
    "        self.layers = []\n",
    "        for i in range(len(dims)-2):\n",
    "            #if batch_norm == True:\n",
    "            #    self.layers.append(tf.keras.layers.BatchNormalization())\n",
    "            self.layers.append(tf.keras.layers.Dense(dims[i+1], activation=\"relu\"))\n",
    "        #if batch_norm == True:\n",
    "        #    self.layers.append(tf.keras.layers.BatchNormalization())\n",
    "        self.layers.append(tf.keras.layers.Dense(dims[-1], activation=None))\n",
    "        \n",
    "    def __call__(self, x):\n",
    "        for layer in self.layers:\n",
    "            x = layer(x)\n",
    "        return normalization(x)\n",
    "        #return normalization_old(x)\n",
    "\n",
    "class Decoder(tf.Module):\n",
    "    def __init__(self, dims, batch_norm=False):\n",
    "        super().__init__()\n",
    "        if len(dims) < 2: raise ValueError(\"Input list has to be at least length 2\")\n",
    "        \n",
    "        self.layers = []\n",
    "        for i in range(len(dims)-2):\n",
    "            if batch_norm == True:\n",
    "                self.layers.append(tf.keras.layers.BatchNormalization())\n",
    "            self.layers.append(tf.keras.layers.Dense(dims[i+1], activation=\"relu\"))\n",
    "        if batch_norm == True:\n",
    "            self.layers.append(tf.keras.layers.BatchNormalization())\n",
    "        self.layers.append(tf.keras.layers.Dense(dims[-1], activation=\"softmax\"))\n",
    "        \n",
    "    def __call__(self, x, training):\n",
    "        for layer in self.layers:\n",
    "            if \"batch_normalization\" in layer.name:\n",
    "                x = layer(x, training=training)\n",
    "            else:\n",
    "                x = layer(x)\n",
    "        return x\n",
    "\n",
    "class AE(tf.Module):\n",
    "    \"\"\" AE: communications autoencoder\n",
    "    \n",
    "    Args:\n",
    "        enc_dims: dimensions (neurons per layer) for encoder\n",
    "        dec_dims: dimensions (neurons per layer) for decoder\n",
    "    \n",
    "    \"\"\"\n",
    "    def __init__(self, enc_dims, dec_dims, batch_norm=False):\n",
    "        super().__init__()\n",
    "        self.Encoder = Encoder(enc_dims, batch_norm)\n",
    "        self.Decoder = Decoder(dec_dims, batch_norm)\n",
    "    \n",
    "    def __call__(self, ohv, Hr, Hi, sigma2, training=False):\n",
    "        Hr = tf.repeat(Hr, M, axis=0)\n",
    "        Hi = tf.repeat(Hi, M, axis=0)\n",
    "        HrR = tf.reshape(Hr, [-1, Tx*Rx])\n",
    "        HiR = tf.reshape(Hi, [-1 ,Tx*Rx])\n",
    "        \n",
    "        x = self.Encoder(tf.concat([ohv, HrR, HiR], axis=1))\n",
    "        \n",
    "        xr = tf.reshape(x[:,0:N*Tx//2], [-1, Tx, N//2])\n",
    "        xi = tf.reshape(x[:,N*Tx//2:N*Tx], [-1, Tx, N//2])\n",
    "    \n",
    "        yr,yi = mimo_channel(xr, xi, Hr, Hi, sigma2)\n",
    "        \n",
    "        yr = tf.reshape(yr, [-1, Rx*N//2])\n",
    "        yi = tf.reshape(yi, [-1, Rx*N//2])\n",
    "        y = tf.concat([yr, yi], axis=1)\n",
    "        \n",
    "        return self.Decoder(tf.concat([y, HrR, HiR], axis=1), training)"
   ]
  },
  {
   "cell_type": "markdown",
   "metadata": {},
   "source": [
    "# Training Routine (Eager)"
   ]
  },
  {
   "cell_type": "code",
   "execution_count": 5,
   "metadata": {},
   "outputs": [],
   "source": [
    "@tf.function # debug in eager mode, then compile into a static graph (faster)\n",
    "def train_step_eager(sigma2):\n",
    "    #indices = tf.random.uniform(shape=(B,), minval=0, maxval=M, dtype=tf.dtypes.int32)\n",
    "    indices = tf.tile(tf.range(M), [B//M])\n",
    "    ohv = tf.one_hot(indices, depth=M)\n",
    "    \n",
    "    if True:\n",
    "    #H = (tf.random.normal([B//M, Rx, Tx])+1j*tf.random.normal([B//M, Rx, Tx]))/tf.sqrt(2)\n",
    "        Hr = tf.random.normal([B//M, Rx, Tx])/np.sqrt(2)\n",
    "        Hi = tf.random.normal([B//M, Rx, Tx])/np.sqrt(2)\n",
    "    else: # does not work with eager mode\n",
    "        num_ch = B//M\n",
    "        U = unitary_group.rvs(2,num_ch)\n",
    "        V = unitary_group.rvs(2,num_ch)\n",
    "        EV1 = 1.0\n",
    "        EV2 = 0.5\n",
    "        Sigma = np.tile(np.array([[EV1, 0],[0, EV2]]), (num_ch,1,1))\n",
    "        V_H = np.transpose(np.conj(V), (0,2,1))\n",
    "        Htmp = np.matmul(U, np.matmul(Sigma, V)) \n",
    "\n",
    "        Hr = tf.convert_to_tensor(np.real(Htmp), dtype=tf.float32)\n",
    "        Hi = tf.convert_to_tensor(np.imag(Htmp), dtype=tf.float32)\n",
    "    \n",
    "    with tf.GradientTape() as tape:\n",
    "        qxy = model(ohv, Hr, Hi, sigma2, training=True)\n",
    "        epsilon = 1e-6 # to avoid log(0) = -Inf\n",
    "        L = -M*tf.reduce_mean(ohv*tf.math.log(qxy+epsilon)/np.log(2))\n",
    "        \n",
    "    grads = tape.gradient(L, model.trainable_variables)\n",
    "    optimizer.apply_gradients(zip(grads, model.trainable_variables))    \n",
    "    return L"
   ]
  },
  {
   "cell_type": "code",
   "execution_count": 6,
   "metadata": {},
   "outputs": [
    {
     "name": "stdout",
     "output_type": "stream",
     "text": [
      "EsNo = 5.0 dB\n"
     ]
    },
    {
     "name": "stderr",
     "output_type": "stream",
     "text": [
      "loss=0.29903: 100%|██████████| 500000/500000 [3:49:08<00:00, 36.37it/s]  "
     ]
    },
    {
     "name": "stdout",
     "output_type": "stream",
     "text": [
      "EsNo = 10.0 dB\n"
     ]
    },
    {
     "name": "stderr",
     "output_type": "stream",
     "text": [
      "\n",
      "loss=0.03276:  75%|███████▌  | 375985/500000 [2:52:06<56:30, 36.57it/s]  IOPub message rate exceeded.\n",
      "The notebook server will temporarily stop sending output\n",
      "to the client in order to avoid crashing it.\n",
      "To change this limit, set the config variable\n",
      "`--NotebookApp.iopub_msg_rate_limit`.\n",
      "\n",
      "Current values:\n",
      "NotebookApp.iopub_msg_rate_limit=1000.0 (msgs/sec)\n",
      "NotebookApp.rate_limit_window=3.0 (secs)\n",
      "\n",
      "loss=0.02439:  86%|████████▋ | 432409/500000 [3:17:52<30:53, 36.47it/s]IOPub message rate exceeded.\n",
      "The notebook server will temporarily stop sending output\n",
      "to the client in order to avoid crashing it.\n",
      "To change this limit, set the config variable\n",
      "`--NotebookApp.iopub_msg_rate_limit`.\n",
      "\n",
      "Current values:\n",
      "NotebookApp.iopub_msg_rate_limit=1000.0 (msgs/sec)\n",
      "NotebookApp.rate_limit_window=3.0 (secs)\n",
      "\n",
      "loss=0.02901:  98%|█████████▊| 488553/500000 [3:43:33<05:13, 36.47it/s]IOPub message rate exceeded.\n",
      "The notebook server will temporarily stop sending output\n",
      "to the client in order to avoid crashing it.\n",
      "To change this limit, set the config variable\n",
      "`--NotebookApp.iopub_msg_rate_limit`.\n",
      "\n",
      "Current values:\n",
      "NotebookApp.iopub_msg_rate_limit=1000.0 (msgs/sec)\n",
      "NotebookApp.rate_limit_window=3.0 (secs)\n",
      "\n",
      "loss=0.00043:   9%|▉         | 44601/500000 [20:23<3:27:34, 36.57it/s]IOPub message rate exceeded.\n",
      "The notebook server will temporarily stop sending output\n",
      "to the client in order to avoid crashing it.\n",
      "To change this limit, set the config variable\n",
      "`--NotebookApp.iopub_msg_rate_limit`.\n",
      "\n",
      "Current values:\n",
      "NotebookApp.iopub_msg_rate_limit=1000.0 (msgs/sec)\n",
      "NotebookApp.rate_limit_window=3.0 (secs)\n",
      "\n",
      "loss=0.00299:  20%|█▉        | 97969/500000 [44:45<3:04:10, 36.38it/s]IOPub message rate exceeded.\n",
      "The notebook server will temporarily stop sending output\n",
      "to the client in order to avoid crashing it.\n",
      "To change this limit, set the config variable\n",
      "`--NotebookApp.iopub_msg_rate_limit`.\n",
      "\n",
      "Current values:\n",
      "NotebookApp.iopub_msg_rate_limit=1000.0 (msgs/sec)\n",
      "NotebookApp.rate_limit_window=3.0 (secs)\n",
      "\n",
      "loss=0.00110:  31%|███       | 153629/500000 [1:10:13<2:38:34, 36.40it/s]IOPub message rate exceeded.\n",
      "The notebook server will temporarily stop sending output\n",
      "to the client in order to avoid crashing it.\n",
      "To change this limit, set the config variable\n",
      "`--NotebookApp.iopub_msg_rate_limit`.\n",
      "\n",
      "Current values:\n",
      "NotebookApp.iopub_msg_rate_limit=1000.0 (msgs/sec)\n",
      "NotebookApp.rate_limit_window=3.0 (secs)\n",
      "\n",
      "loss=0.00373:  42%|████▏     | 209393/500000 [1:35:42<2:12:42, 36.50it/s]IOPub message rate exceeded.\n",
      "The notebook server will temporarily stop sending output\n",
      "to the client in order to avoid crashing it.\n",
      "To change this limit, set the config variable\n",
      "`--NotebookApp.iopub_msg_rate_limit`.\n",
      "\n",
      "Current values:\n",
      "NotebookApp.iopub_msg_rate_limit=1000.0 (msgs/sec)\n",
      "NotebookApp.rate_limit_window=3.0 (secs)\n",
      "\n",
      "loss=0.00106:  53%|█████▎    | 265249/500000 [2:01:13<1:47:17, 36.47it/s]IOPub message rate exceeded.\n",
      "The notebook server will temporarily stop sending output\n",
      "to the client in order to avoid crashing it.\n",
      "To change this limit, set the config variable\n",
      "`--NotebookApp.iopub_msg_rate_limit`.\n",
      "\n",
      "Current values:\n",
      "NotebookApp.iopub_msg_rate_limit=1000.0 (msgs/sec)\n",
      "NotebookApp.rate_limit_window=3.0 (secs)\n",
      "\n",
      "loss=0.00366:  64%|██████▍   | 321097/500000 [2:26:45<1:21:59, 36.37it/s]IOPub message rate exceeded.\n",
      "The notebook server will temporarily stop sending output\n",
      "to the client in order to avoid crashing it.\n",
      "To change this limit, set the config variable\n",
      "`--NotebookApp.iopub_msg_rate_limit`.\n",
      "\n",
      "Current values:\n",
      "NotebookApp.iopub_msg_rate_limit=1000.0 (msgs/sec)\n",
      "NotebookApp.rate_limit_window=3.0 (secs)\n",
      "\n",
      "loss=0.00241:  75%|███████▌  | 376877/500000 [2:52:13<56:23, 36.39it/s]  IOPub message rate exceeded.\n",
      "The notebook server will temporarily stop sending output\n",
      "to the client in order to avoid crashing it.\n",
      "To change this limit, set the config variable\n",
      "`--NotebookApp.iopub_msg_rate_limit`.\n",
      "\n",
      "Current values:\n",
      "NotebookApp.iopub_msg_rate_limit=1000.0 (msgs/sec)\n",
      "NotebookApp.rate_limit_window=3.0 (secs)\n",
      "\n",
      "loss=0.00122:  87%|████████▋ | 432637/500000 [3:17:40<30:49, 36.42it/s]IOPub message rate exceeded.\n",
      "The notebook server will temporarily stop sending output\n",
      "to the client in order to avoid crashing it.\n",
      "To change this limit, set the config variable\n",
      "`--NotebookApp.iopub_msg_rate_limit`.\n",
      "\n",
      "Current values:\n",
      "NotebookApp.iopub_msg_rate_limit=1000.0 (msgs/sec)\n",
      "NotebookApp.rate_limit_window=3.0 (secs)\n",
      "\n",
      "loss=0.00917:  98%|█████████▊| 488373/500000 [3:43:08<05:19, 36.37it/s]IOPub message rate exceeded.\n",
      "The notebook server will temporarily stop sending output\n",
      "to the client in order to avoid crashing it.\n",
      "To change this limit, set the config variable\n",
      "`--NotebookApp.iopub_msg_rate_limit`.\n",
      "\n",
      "Current values:\n",
      "NotebookApp.iopub_msg_rate_limit=1000.0 (msgs/sec)\n",
      "NotebookApp.rate_limit_window=3.0 (secs)\n",
      "\n",
      "loss=0.00593:   9%|▉         | 44185/500000 [20:12<3:27:32, 36.60it/s]IOPub message rate exceeded.\n",
      "The notebook server will temporarily stop sending output\n",
      "to the client in order to avoid crashing it.\n",
      "To change this limit, set the config variable\n",
      "`--NotebookApp.iopub_msg_rate_limit`.\n",
      "\n",
      "Current values:\n",
      "NotebookApp.iopub_msg_rate_limit=1000.0 (msgs/sec)\n",
      "NotebookApp.rate_limit_window=3.0 (secs)\n",
      "\n",
      "loss=0.00716:  20%|█▉        | 99949/500000 [45:40<3:02:43, 36.49it/s]IOPub message rate exceeded.\n",
      "The notebook server will temporarily stop sending output\n",
      "to the client in order to avoid crashing it.\n",
      "To change this limit, set the config variable\n",
      "`--NotebookApp.iopub_msg_rate_limit`.\n",
      "\n",
      "Current values:\n",
      "NotebookApp.iopub_msg_rate_limit=1000.0 (msgs/sec)\n",
      "NotebookApp.rate_limit_window=3.0 (secs)\n",
      "\n",
      "loss=0.00724:  31%|███       | 155729/500000 [1:11:07<2:37:26, 36.44it/s]IOPub message rate exceeded.\n",
      "The notebook server will temporarily stop sending output\n",
      "to the client in order to avoid crashing it.\n",
      "To change this limit, set the config variable\n",
      "`--NotebookApp.iopub_msg_rate_limit`.\n",
      "\n",
      "Current values:\n",
      "NotebookApp.iopub_msg_rate_limit=1000.0 (msgs/sec)\n",
      "NotebookApp.rate_limit_window=3.0 (secs)\n",
      "\n",
      "loss=0.00896:  40%|████      | 200521/500000 [1:31:35<2:16:41, 36.52it/s]IOPub message rate exceeded.\n",
      "The notebook server will temporarily stop sending output\n",
      "to the client in order to avoid crashing it.\n",
      "To change this limit, set the config variable\n",
      "`--NotebookApp.iopub_msg_rate_limit`.\n",
      "\n",
      "Current values:\n",
      "NotebookApp.iopub_msg_rate_limit=1000.0 (msgs/sec)\n",
      "NotebookApp.rate_limit_window=3.0 (secs)\n",
      "\n",
      "loss=0.00619:  42%|████▏     | 211477/500000 [1:36:35<2:11:33, 36.55it/s]IOPub message rate exceeded.\n",
      "The notebook server will temporarily stop sending output\n",
      "to the client in order to avoid crashing it.\n",
      "To change this limit, set the config variable\n",
      "`--NotebookApp.iopub_msg_rate_limit`.\n",
      "\n",
      "Current values:\n",
      "NotebookApp.iopub_msg_rate_limit=1000.0 (msgs/sec)\n",
      "NotebookApp.rate_limit_window=3.0 (secs)\n",
      "\n",
      "loss=0.00828:  51%|█████     | 256145/500000 [1:56:59<1:51:09, 36.56it/s]IOPub message rate exceeded.\n",
      "The notebook server will temporarily stop sending output\n",
      "to the client in order to avoid crashing it.\n",
      "To change this limit, set the config variable\n",
      "`--NotebookApp.iopub_msg_rate_limit`.\n",
      "\n",
      "Current values:\n",
      "NotebookApp.iopub_msg_rate_limit=1000.0 (msgs/sec)\n",
      "NotebookApp.rate_limit_window=3.0 (secs)\n",
      "\n",
      "loss=0.00557:  53%|█████▎    | 267081/500000 [2:01:59<1:46:07, 36.58it/s]IOPub message rate exceeded.\n",
      "The notebook server will temporarily stop sending output\n",
      "to the client in order to avoid crashing it.\n",
      "To change this limit, set the config variable\n",
      "`--NotebookApp.iopub_msg_rate_limit`.\n",
      "\n",
      "Current values:\n",
      "NotebookApp.iopub_msg_rate_limit=1000.0 (msgs/sec)\n",
      "NotebookApp.rate_limit_window=3.0 (secs)\n",
      "\n",
      "loss=0.00770:  62%|██████▏   | 311785/500000 [2:22:25<1:26:06, 36.43it/s]IOPub message rate exceeded.\n",
      "The notebook server will temporarily stop sending output\n",
      "to the client in order to avoid crashing it.\n",
      "To change this limit, set the config variable\n",
      "`--NotebookApp.iopub_msg_rate_limit`.\n",
      "\n",
      "Current values:\n",
      "NotebookApp.iopub_msg_rate_limit=1000.0 (msgs/sec)\n",
      "NotebookApp.rate_limit_window=3.0 (secs)\n",
      "\n",
      "loss=0.00709:  65%|██████▍   | 322725/500000 [2:27:25<1:21:14, 36.37it/s]IOPub message rate exceeded.\n",
      "The notebook server will temporarily stop sending output\n",
      "to the client in order to avoid crashing it.\n",
      "To change this limit, set the config variable\n",
      "`--NotebookApp.iopub_msg_rate_limit`.\n",
      "\n",
      "Current values:\n",
      "NotebookApp.iopub_msg_rate_limit=1000.0 (msgs/sec)\n",
      "NotebookApp.rate_limit_window=3.0 (secs)\n",
      "\n"
     ]
    },
    {
     "name": "stderr",
     "output_type": "stream",
     "text": [
      "loss=0.00537:  73%|███████▎  | 367425/500000 [2:47:51<1:00:32, 36.49it/s]IOPub message rate exceeded.\n",
      "The notebook server will temporarily stop sending output\n",
      "to the client in order to avoid crashing it.\n",
      "To change this limit, set the config variable\n",
      "`--NotebookApp.iopub_msg_rate_limit`.\n",
      "\n",
      "Current values:\n",
      "NotebookApp.iopub_msg_rate_limit=1000.0 (msgs/sec)\n",
      "NotebookApp.rate_limit_window=3.0 (secs)\n",
      "\n",
      "loss=0.00705:  76%|███████▌  | 378365/500000 [2:52:51<55:29, 36.53it/s]IOPub message rate exceeded.\n",
      "The notebook server will temporarily stop sending output\n",
      "to the client in order to avoid crashing it.\n",
      "To change this limit, set the config variable\n",
      "`--NotebookApp.iopub_msg_rate_limit`.\n",
      "\n",
      "Current values:\n",
      "NotebookApp.iopub_msg_rate_limit=1000.0 (msgs/sec)\n",
      "NotebookApp.rate_limit_window=3.0 (secs)\n",
      "\n",
      "loss=0.00555:  85%|████████▍ | 423025/500000 [3:13:14<35:07, 36.52it/s]IOPub message rate exceeded.\n",
      "The notebook server will temporarily stop sending output\n",
      "to the client in order to avoid crashing it.\n",
      "To change this limit, set the config variable\n",
      "`--NotebookApp.iopub_msg_rate_limit`.\n",
      "\n",
      "Current values:\n",
      "NotebookApp.iopub_msg_rate_limit=1000.0 (msgs/sec)\n",
      "NotebookApp.rate_limit_window=3.0 (secs)\n",
      "\n",
      "loss=0.01220:  87%|████████▋ | 433993/500000 [3:18:14<30:21, 36.24it/s]IOPub message rate exceeded.\n",
      "The notebook server will temporarily stop sending output\n",
      "to the client in order to avoid crashing it.\n",
      "To change this limit, set the config variable\n",
      "`--NotebookApp.iopub_msg_rate_limit`.\n",
      "\n",
      "Current values:\n",
      "NotebookApp.iopub_msg_rate_limit=1000.0 (msgs/sec)\n",
      "NotebookApp.rate_limit_window=3.0 (secs)\n",
      "\n",
      "loss=0.00595:  96%|█████████▌| 478637/500000 [3:38:38<09:46, 36.45it/s]IOPub message rate exceeded.\n",
      "The notebook server will temporarily stop sending output\n",
      "to the client in order to avoid crashing it.\n",
      "To change this limit, set the config variable\n",
      "`--NotebookApp.iopub_msg_rate_limit`.\n",
      "\n",
      "Current values:\n",
      "NotebookApp.iopub_msg_rate_limit=1000.0 (msgs/sec)\n",
      "NotebookApp.rate_limit_window=3.0 (secs)\n",
      "\n",
      "loss=0.00468:  98%|█████████▊| 489593/500000 [3:43:39<04:44, 36.56it/s]IOPub message rate exceeded.\n",
      "The notebook server will temporarily stop sending output\n",
      "to the client in order to avoid crashing it.\n",
      "To change this limit, set the config variable\n",
      "`--NotebookApp.iopub_msg_rate_limit`.\n",
      "\n",
      "Current values:\n",
      "NotebookApp.iopub_msg_rate_limit=1000.0 (msgs/sec)\n",
      "NotebookApp.rate_limit_window=3.0 (secs)\n",
      "\n"
     ]
    }
   ],
   "source": [
    "iterations = 500000\n",
    "print_interval = 1000\n",
    "\n",
    "log_dir = \"logs/closed_loop/\" + datetime.datetime.now().strftime(\"%Y%m%d-%H%M%S\")\n",
    "train_summary_writer = tf.summary.create_file_writer(log_dir)\n",
    "\n",
    "model = AE(enc_dims, dec_dims, batch_norm)\n",
    "optimizer = tf.keras.optimizers.Adam(learning_rate=lr)\n",
    "\n",
    "loss_sv = []\n",
    "total_iter = 0 \n",
    "for EsNo_dB in EsNo_dB_r:\n",
    "    print(\"EsNo = {:.1f} dB\".format(EsNo_dB), flush=True)\n",
    "    EsNo_r = 10**(EsNo_dB/10)\n",
    "    sigma2 = 1/(2*EsNo_r) # noise power per real dimension\n",
    "    t = tqdm(range(1, iterations+1), desc=\"loss\")\n",
    "    for i in t:\n",
    "        L = train_step_eager(sigma2)\n",
    "        total_iter = total_iter + 1\n",
    "\n",
    "        if i%print_interval==0 or i==1:\n",
    "            with train_summary_writer.as_default():\n",
    "                tf.summary.scalar('loss', L, step=total_iter)\n",
    "\n",
    "            t.set_description(\"loss={:.5f}\".format(L))\n",
    "            t.refresh() # to show immediately the update\n",
    "            loss_sv.append(L)"
   ]
  },
  {
   "cell_type": "code",
   "execution_count": 7,
   "metadata": {},
   "outputs": [
    {
     "data": {
      "image/png": "[encoded data removed]",
      "text/plain": [
       "<Figure size 432x288 with 1 Axes>"
      ]
     },
     "metadata": {
      "needs_background": "light"
     },
     "output_type": "display_data"
    }
   ],
   "source": [
    "plt.semilogy(loss_sv)\n",
    "plt.grid()"
   ]
  },
  {
   "cell_type": "markdown",
   "metadata": {},
   "source": [
    "# Symbol Error Rate"
   ]
  },
  {
   "cell_type": "code",
   "execution_count": 8,
   "metadata": {},
   "outputs": [],
   "source": [
    "@tf.function\n",
    "def get_SER(L, sigma2):\n",
    "    s = tf.tile(tf.range(M, dtype=tf.dtypes.int64), [L//M])\n",
    "    ohv = tf.one_hot(s, depth=M)\n",
    "    \n",
    "    Hr = tf.random.normal([L//M, Rx, Tx])/np.sqrt(2)\n",
    "    Hi = tf.random.normal([L//M, Rx, Tx])/np.sqrt(2) \n",
    "    \n",
    "    pxy = model(ohv, Hr, Hi, sigma2)\n",
    "    shat = tf.math.argmax(pxy, axis=1)\n",
    "    err_vec = tf.cast(s != shat, dtype = tf.dtypes.int64)\n",
    "    \n",
    "    return tf.reduce_sum(err_vec)"
   ]
  },
  {
   "cell_type": "code",
   "execution_count": 9,
   "metadata": {},
   "outputs": [
    {
     "name": "stderr",
     "output_type": "stream",
     "text": [
      "SNR=4.0:  16%|█▌        | 4/25 [00:00<00:04,  4.97it/s]"
     ]
    },
    {
     "name": "stdout",
     "output_type": "stream",
     "text": [
      "WARNING:tensorflow:5 out of the last 5 calls to <function get_SER at 0x7fd37c599950> triggered tf.function retracing. Tracing is expensive and the excessive number of tracings is likely due to passing python objects instead of tensors. Also, tf.function has experimental_relax_shapes=True option that relaxes argument shapes that can avoid unnecessary retracing. Please refer to https://www.tensorflow.org/tutorials/customization/performance#python_or_tensor_args and https://www.tensorflow.org/api_docs/python/tf/function for more details.\n"
     ]
    },
    {
     "name": "stderr",
     "output_type": "stream",
     "text": [
      "SNR=5.0:  20%|██        | 5/25 [00:00<00:04,  4.96it/s]"
     ]
    },
    {
     "name": "stdout",
     "output_type": "stream",
     "text": [
      "WARNING:tensorflow:6 out of the last 6 calls to <function get_SER at 0x7fd37c599950> triggered tf.function retracing. Tracing is expensive and the excessive number of tracings is likely due to passing python objects instead of tensors. Also, tf.function has experimental_relax_shapes=True option that relaxes argument shapes that can avoid unnecessary retracing. Please refer to https://www.tensorflow.org/tutorials/customization/performance#python_or_tensor_args and https://www.tensorflow.org/api_docs/python/tf/function for more details.\n"
     ]
    },
    {
     "name": "stderr",
     "output_type": "stream",
     "text": [
      "SNR=6.0:  24%|██▍       | 6/25 [00:01<00:03,  5.65it/s]"
     ]
    },
    {
     "name": "stdout",
     "output_type": "stream",
     "text": [
      "WARNING:tensorflow:7 out of the last 7 calls to <function get_SER at 0x7fd37c599950> triggered tf.function retracing. Tracing is expensive and the excessive number of tracings is likely due to passing python objects instead of tensors. Also, tf.function has experimental_relax_shapes=True option that relaxes argument shapes that can avoid unnecessary retracing. Please refer to https://www.tensorflow.org/tutorials/customization/performance#python_or_tensor_args and https://www.tensorflow.org/api_docs/python/tf/function for more details.\n"
     ]
    },
    {
     "name": "stderr",
     "output_type": "stream",
     "text": [
      "SNR=7.0:  28%|██▊       | 7/25 [00:01<00:02,  6.10it/s]"
     ]
    },
    {
     "name": "stdout",
     "output_type": "stream",
     "text": [
      "WARNING:tensorflow:8 out of the last 9 calls to <function get_SER at 0x7fd37c599950> triggered tf.function retracing. Tracing is expensive and the excessive number of tracings is likely due to passing python objects instead of tensors. Also, tf.function has experimental_relax_shapes=True option that relaxes argument shapes that can avoid unnecessary retracing. Please refer to https://www.tensorflow.org/tutorials/customization/performance#python_or_tensor_args and https://www.tensorflow.org/api_docs/python/tf/function for more details.\n"
     ]
    },
    {
     "name": "stderr",
     "output_type": "stream",
     "text": [
      "SNR=8.0:  32%|███▏      | 8/25 [00:01<00:02,  6.38it/s]"
     ]
    },
    {
     "name": "stdout",
     "output_type": "stream",
     "text": [
      "WARNING:tensorflow:9 out of the last 11 calls to <function get_SER at 0x7fd37c599950> triggered tf.function retracing. Tracing is expensive and the excessive number of tracings is likely due to passing python objects instead of tensors. Also, tf.function has experimental_relax_shapes=True option that relaxes argument shapes that can avoid unnecessary retracing. Please refer to https://www.tensorflow.org/tutorials/customization/performance#python_or_tensor_args and https://www.tensorflow.org/api_docs/python/tf/function for more details.\n"
     ]
    },
    {
     "name": "stderr",
     "output_type": "stream",
     "text": [
      "SNR=9.0:  36%|███▌      | 9/25 [00:01<00:02,  6.50it/s]"
     ]
    },
    {
     "name": "stdout",
     "output_type": "stream",
     "text": [
      "WARNING:tensorflow:7 out of the last 11 calls to <function get_SER at 0x7fd37c599950> triggered tf.function retracing. Tracing is expensive and the excessive number of tracings is likely due to passing python objects instead of tensors. Also, tf.function has experimental_relax_shapes=True option that relaxes argument shapes that can avoid unnecessary retracing. Please refer to https://www.tensorflow.org/tutorials/customization/performance#python_or_tensor_args and https://www.tensorflow.org/api_docs/python/tf/function for more details.\n"
     ]
    },
    {
     "name": "stderr",
     "output_type": "stream",
     "text": [
      "SNR=10.0:  40%|████      | 10/25 [00:01<00:02,  6.44it/s]"
     ]
    },
    {
     "name": "stdout",
     "output_type": "stream",
     "text": [
      "WARNING:tensorflow:5 out of the last 12 calls to <function get_SER at 0x7fd37c599950> triggered tf.function retracing. Tracing is expensive and the excessive number of tracings is likely due to passing python objects instead of tensors. Also, tf.function has experimental_relax_shapes=True option that relaxes argument shapes that can avoid unnecessary retracing. Please refer to https://www.tensorflow.org/tutorials/customization/performance#python_or_tensor_args and https://www.tensorflow.org/api_docs/python/tf/function for more details.\n"
     ]
    },
    {
     "name": "stderr",
     "output_type": "stream",
     "text": [
      "SNR=24.0: 100%|██████████| 25/25 [01:06<00:00,  2.67s/it]"
     ]
    },
    {
     "name": "stdout",
     "output_type": "stream",
     "text": [
      "[3620. 2992. 2246. 1679. 1227.  873. 1043.  755.  663.  528.  510.  503.\n",
      "  514.  513.  505.  503.  501.  500.  503.  500.  505.  500.  504.  500.\n",
      "  500.]\n",
      "[3.53515625e-01 2.92187500e-01 2.19335937e-01 1.63964844e-01\n",
      " 1.19824219e-01 8.52539062e-02 5.09277344e-02 3.68652344e-02\n",
      " 2.15820313e-02 1.28906250e-02 7.11495536e-03 3.77854567e-03\n",
      " 1.79268973e-03 9.45238797e-04 5.24642620e-04 3.07006836e-04\n",
      " 1.66414222e-04 1.12767032e-04 1.01072209e-04 8.22022306e-05\n",
      " 7.38269555e-05 5.34224562e-05 6.77011692e-05 6.52782420e-05\n",
      " 6.35782878e-05]\n"
     ]
    },
    {
     "name": "stderr",
     "output_type": "stream",
     "text": [
      "\n"
     ]
    }
   ],
   "source": [
    "minErr = 500 # 50k = 8h\n",
    "maxSym = minErr/1e-5\n",
    "L = B # blocks \n",
    "\n",
    "SNR_dB = np.arange(0, 25, 1)\n",
    "SNR_r = 10**(SNR_dB/10)\n",
    "\n",
    "SNRlen = len(SNR_dB)\n",
    "SymErrs = np.zeros([SNRlen])\n",
    "Syms = np.zeros([SNRlen])\n",
    "\n",
    "t = tqdm(range(SNRlen), desc=\"SNR=\")\n",
    "for II in t:\n",
    "    #print(\"SNR = {} dB\".format(SNR_dB[II]))\n",
    "    t.set_description(\"SNR={:.1f}\".format(SNR_dB[II]))\n",
    "    t.refresh() # to show immediately the update\n",
    "    totErr, totSym = 0, 0\n",
    "    sigma2 = 1/(2*SNR_r[II])\n",
    "\n",
    "    while ((totErr < minErr) and (totSym <= maxSym)):\n",
    "        thisErr = get_SER(L,sigma2)\n",
    "        totErr = totErr + np.asarray([thisErr.numpy()])\n",
    "        totSym = totSym + L\n",
    "    \n",
    "    #print(totErr)\n",
    "    SymErrs[II] = totErr\n",
    "    Syms[II] = totSym\n",
    "\n",
    "print(SymErrs)\n",
    "SER = SymErrs/Syms\n",
    "print(SER)"
   ]
  },
  {
   "cell_type": "code",
   "execution_count": 11,
   "metadata": {},
   "outputs": [
    {
     "data": {
      "image/png": "[encoded data removed]",
      "text/plain": [
       "<Figure size 640x480 with 1 Axes>"
      ]
     },
     "metadata": {},
     "output_type": "display_data"
    }
   ],
   "source": [
    "plt.figure(num=None, figsize=(8, 6), dpi=80, facecolor='w', edgecolor='k')\n",
    "\n",
    "#plt.semilogy(SNR_dB-10*np.log10(2), SER, label='Autoencoder')\n",
    "plt.semilogy(SNR_dB, SER, label='Autoencoder')\n",
    "\n",
    "snr_baseline = np.arange(0,28,2)\n",
    "bler_baseline = np.array([0.32788, 0.21021, 0.11545, 0.052686, 0.019688, 0.0060319, 0.0015539, 0.0003448, 6.9515e-05, 1.2716e-05, 2.0578e-06, 3.2932e-07, 5.236e-08, 4.4919e-09])\n",
    "plt.semilogy(snr_baseline, bler_baseline, marker='s', linestyle='solid', label='bit+power alloc')\n",
    "\n",
    "snr_bQPSK = np.arange(0,28,2)\n",
    "bler_bQPSK = np.array([0.51663, 0.42939, 0.34221, 0.26423, 0.1949, 0.14124, 0.09486, 0.06518, 0.04256, 0.02639, 0.0175, 0.0112, 0.0062, 0.0046])\n",
    "plt.semilogy(snr_bQPSK, bler_bQPSK, marker='s', linestyle='solid', label='2xQPSK')\n",
    "\n",
    "plt.xlabel('SNR=(P/Nt)/N0 [dB]')\n",
    "plt.ylabel('block error rate')\n",
    "plt.ylim(1e-5, 1)\n",
    "plt.xlim(0, 24)\n",
    "plt.legend()\n",
    "plt.grid()\n",
    "plt.show()"
   ]
  },
  {
   "cell_type": "markdown",
   "metadata": {},
   "source": [
    "# Fixed Eigenvalues"
   ]
  },
  {
   "cell_type": "code",
   "execution_count": 12,
   "metadata": {},
   "outputs": [
    {
     "name": "stdout",
     "output_type": "stream",
     "text": [
      "640\n"
     ]
    },
    {
     "name": "stderr",
     "output_type": "stream",
     "text": [
      "100%|██████████| 10/10 [04:20<00:00, 26.10s/it]"
     ]
    },
    {
     "name": "stdout",
     "output_type": "stream",
     "text": [
      "[10319. 10165. 10131. 10205. 10028. 10053. 10046. 10019. 10001. 10004.]\n",
      "[0.11196832 0.07090541 0.04122314 0.02372814 0.01341503 0.00798161\n",
      " 0.00469404 0.00281965 0.001681   0.000975  ]\n"
     ]
    },
    {
     "name": "stderr",
     "output_type": "stream",
     "text": [
      "\n"
     ]
    }
   ],
   "source": [
    "minErr = 10000 # 10k = 5 mins\n",
    "maxSym = minErr/1e-5\n",
    "\n",
    "EV2 = 0.5\n",
    "EV1_r = np.arange(0.5, 1.5, 0.1)\n",
    "snr = 12\n",
    "\n",
    "L = B\n",
    "replace = L//M\n",
    "print(replace, flush=True)\n",
    "\n",
    "SymErrs = np.zeros(len(EV1_r))\n",
    "Syms = np.zeros(len(EV1_r))\n",
    "\n",
    "II = 0\n",
    "for EV1 in tqdm(EV1_r):\n",
    "    totErr, totSym = 0,0\n",
    "    \n",
    "    snr_linear = np.power(10, snr/10)\n",
    "    sigma2 = 1/(2*snr_linear)\n",
    "    \n",
    "    E = np.array([[EV1, 0], [0, EV2]])\n",
    "    \n",
    "    while ((totErr < minErr) and (totSym < maxSym)):\n",
    "        # =============================== #\n",
    "        s = tf.tile(tf.range(M, dtype=tf.dtypes.int64), [L//M])\n",
    "        ohv = tf.one_hot(s, depth=M)\n",
    "        #Hr = tf.random.normal([L//M, Rx, Tx])/np.sqrt(2)\n",
    "        #Hi = tf.random.normal([L//M, Rx, Tx])/np.sqrt(2) \n",
    "        \n",
    "        Hr = np.random.normal(size=[L//M, Rx, Tx])/np.sqrt(2)\n",
    "        Hi = np.random.normal(size=[L//M, Rx, Tx])/np.sqrt(2)\n",
    "        \n",
    "        for i in range(replace): \n",
    "            V = unitary_group.rvs(2)\n",
    "            U = unitary_group.rvs(2)\n",
    "            #Htmp = (np.matmul(U,np.matmul(E,np.conj(V).T)))\n",
    "            Htmp = (np.matmul(U,np.matmul(E,np.conj(V).T)))\n",
    "            Hr[i,:,:] = np.real(Htmp)\n",
    "            Hi[i,:,:] = np.imag(Htmp)\n",
    "        \n",
    "        Hr = tf.convert_to_tensor(Hr, dtype=tf.float32)\n",
    "        Hi = tf.convert_to_tensor(Hi, dtype=tf.float32)\n",
    "        \n",
    "        # check power\n",
    "        if False:\n",
    "            Hr = tf.repeat(Hr, M, axis=0)\n",
    "            Hi = tf.repeat(Hi, M, axis=0)\n",
    "            HrR = tf.reshape(Hr, [-1, Tx*Rx])\n",
    "            HiR = tf.reshape(Hi, [-1 ,Tx*Rx])\n",
    "            x = model.Encoder(tf.concat([ohv, HrR, HiR], axis=1))\n",
    "\n",
    "            i = 100\n",
    "            x = x[i*M:(i+1)*M,:]\n",
    "            Pwr = tf.reduce_mean(tf.reduce_sum(x**2, axis=1))\n",
    "\n",
    "            print(x)\n",
    "            print(Pwr)\n",
    "            sys.exit(\"\")\n",
    "        \n",
    "        pxy = model(ohv, Hr, Hi, sigma2)\n",
    "        shat = tf.math.argmax(pxy, axis=1)\n",
    "        err_vec = tf.cast(s != shat, dtype = tf.dtypes.int64)\n",
    "        \n",
    "        # =============================== #\n",
    "        \n",
    "        if replace == 0:\n",
    "            print(\"tbd\")\n",
    "            #totErr = totErr + np.sum(not_correct)\n",
    "            #totSym = totSym + frames*batch*M\n",
    "        else:\n",
    "            t = tf.reduce_sum(err_vec[0:replace*M])\n",
    "            totErr = totErr + t.numpy()\n",
    "            totSym = totSym + replace*M\n",
    "    \n",
    "    SymErrs[II] = totErr\n",
    "    Syms[II] = totSym\n",
    "    II = II + 1\n",
    "    \n",
    "SER = SymErrs/Syms\n",
    "print(SymErrs)\n",
    "print(SER)"
   ]
  },
  {
   "cell_type": "code",
   "execution_count": 13,
   "metadata": {},
   "outputs": [
    {
     "name": "stdout",
     "output_type": "stream",
     "text": [
      "EV1_r =  [0.5 0.6 0.7 0.8 0.9 1.  1.1 1.2 1.3 1.4]\n",
      "SER =  [0.11196832 0.07090541 0.04122314 0.02372814 0.01341503 0.00798161\n",
      " 0.00469404 0.00281965 0.001681   0.000975  ]\n"
     ]
    }
   ],
   "source": [
    "print('EV1_r = ', EV1_r)\n",
    "print('SER = ', SER)"
   ]
  }
 ],
 "metadata": {
  "kernelspec": {
   "display_name": "Python 3",
   "language": "python",
   "name": "python3"
  },
  "language_info": {
   "codemirror_mode": {
    "name": "ipython",
    "version": 3
   },
   "file_extension": ".py",
   "mimetype": "text/x-python",
   "name": "python",
   "nbconvert_exporter": "python",
   "pygments_lexer": "ipython3",
   "version": "3.7.3"
  }
 },
 "nbformat": 4,
 "nbformat_minor": 2
}
